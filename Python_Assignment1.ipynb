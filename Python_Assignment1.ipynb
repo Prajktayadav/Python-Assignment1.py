{
  "nbformat": 4,
  "nbformat_minor": 0,
  "metadata": {
    "colab": {
      "provenance": []
    },
    "kernelspec": {
      "name": "python3",
      "display_name": "Python 3"
    },
    "language_info": {
      "name": "python"
    }
  },
  "cells": [
    {
      "cell_type": "code",
      "execution_count": null,
      "metadata": {
        "id": "GpzMihiwKdCV"
      },
      "outputs": [],
      "source": [
        "# FOR LOOP"
      ]
    },
    {
      "cell_type": "code",
      "source": [
        "#1.Write a Python program to print numbers from 1 to 10 using a for loop.\n",
        "\n",
        "\n",
        "print('Numbers from 1 to 10:')\n",
        "for i in range(1, 11):\n",
        "   print(i, end=' ')\n",
        "\n",
        "\n"
      ],
      "metadata": {
        "colab": {
          "base_uri": "https://localhost:8080/"
        },
        "id": "0kOldd3tK5TJ",
        "outputId": "3321a7b3-2aeb-4306-b70f-20427300bc7e"
      },
      "execution_count": null,
      "outputs": [
        {
          "output_type": "stream",
          "name": "stdout",
          "text": [
            "Numbers from 1 to 10:\n",
            "1 2 3 4 5 6 7 8 9 10 "
          ]
        }
      ]
    },
    {
      "cell_type": "code",
      "source": [
        "#2.Explain the difference between a for loop and a while loop in Python.\n",
        "\n",
        "\n",
        "For Loop: 1. for(initialization):\n",
        "            [condition];\n",
        "            [increment/\n",
        "             decrement]\n",
        "            {//loop body} #//Deeclaration\n",
        "\n",
        "\n",
        "          2.When we kow the number of iteration needed. #//Use\n",
        "\n",
        "          3.It iterates infinite times #//Condition\n",
        "\n",
        "          4.The iteration variable is initialized only once #//Initialization\n",
        "\n",
        "          5.It is written at the top #//Iteration statement\n",
        "\n",
        "\n",
        "While Loop: 1. while(condition)\n",
        "                statement #//Declaration\n",
        "\n",
        "            2. When we don't know the number of iteration needed   #//Use\n",
        "\n",
        "            3. It leads to \"compilation error\" #//Condition\n",
        "\n",
        "            4. The  iteration variables is initialized each time the loop iterates #//Initialization\n",
        "\n",
        "            5. It can be written anywhere in the loop #//Iteration statement\n",
        "\n",
        "\n",
        "\n",
        "\n"
      ],
      "metadata": {
        "id": "JHZiTMVFLcyg"
      },
      "execution_count": null,
      "outputs": []
    },
    {
      "cell_type": "code",
      "source": [
        "#3.Write a Python program to calculate the sum of all numbers from 1 to 100 using a for loop.\n",
        "\n",
        "num = int(input(\"Enter a number: \"))\n",
        "def sum(n):\n",
        "    if n <= 1:\n",
        "        return n\n",
        "    else:\n",
        "        return n + sum(n-1)\n",
        "print(\"The sum is: \", sum(num))\n"
      ],
      "metadata": {
        "colab": {
          "base_uri": "https://localhost:8080/"
        },
        "id": "t9BgQTrysjjL",
        "outputId": "5c1a2699-74d4-413a-e36d-9dc8c28d26b9"
      },
      "execution_count": null,
      "outputs": [
        {
          "output_type": "stream",
          "name": "stdout",
          "text": [
            "Enter a number: 100\n",
            "The sum is:  5050\n"
          ]
        }
      ]
    },
    {
      "cell_type": "code",
      "source": [
        "#4.How do you iterate through a list using a for loop in Python?\n",
        "\n",
        "list = [1, 3, 5, 7, 9]\n",
        "\n",
        "#\n",
        "for i in list:\n",
        "    print(i)"
      ],
      "metadata": {
        "colab": {
          "base_uri": "https://localhost:8080/"
        },
        "id": "5QG1cOEDtcLt",
        "outputId": "550d2dd1-66da-4860-b0b0-24466f9bf094"
      },
      "execution_count": null,
      "outputs": [
        {
          "output_type": "stream",
          "name": "stdout",
          "text": [
            "1\n",
            "3\n",
            "5\n",
            "7\n",
            "9\n"
          ]
        }
      ]
    },
    {
      "cell_type": "code",
      "source": [
        "#5.Write a Python program to find the product of all elements in a list using a for loop.\n",
        "\n",
        "numbers = [2, 4, 6, 8, 10]\n",
        "product = 1\n",
        "for num in numbers:\n",
        "    product = product * num\n",
        "print(\"The product of all elements in the list is\", product)\n",
        "\n"
      ],
      "metadata": {
        "colab": {
          "base_uri": "https://localhost:8080/"
        },
        "id": "zAt5KdEBudyR",
        "outputId": "75cd9872-f657-4894-893a-3772e4f33faf"
      },
      "execution_count": null,
      "outputs": [
        {
          "output_type": "stream",
          "name": "stdout",
          "text": [
            "The product of all elements in the list is 3840\n"
          ]
        }
      ]
    },
    {
      "cell_type": "code",
      "source": [
        "#6.Create a Python program that prints all even numbers from 1 to 20 using a for loop.\n",
        "\n",
        "\n",
        "for even_numbers in range(4,15,2):\n",
        "    print(even_numbers,end=' ')"
      ],
      "metadata": {
        "colab": {
          "base_uri": "https://localhost:8080/"
        },
        "id": "BzkhIeGRu_ET",
        "outputId": "f1485529-f55f-4a4e-cb36-2bd145c95fce"
      },
      "execution_count": null,
      "outputs": [
        {
          "output_type": "stream",
          "name": "stdout",
          "text": [
            "4 6 8 10 12 14 "
          ]
        }
      ]
    },
    {
      "cell_type": "code",
      "source": [
        "#7.Write a Python program that calculates the factorial of a number using a for loop.\n",
        "\n",
        "num = 5\n",
        "\n",
        "factorial = 1\n",
        "if num < 0:\n",
        "   print(\"Sorry, factorial does not exist for negative numbers\")\n",
        "elif num == 0:\n",
        "   print(\"The factorial of 0 is 1\")\n",
        "else:\n",
        "   for i in range(1,num + 1):\n",
        "       factorial = factorial*i\n",
        "   print(\"The factorial of\",num,\"is\",factorial)\n"
      ],
      "metadata": {
        "colab": {
          "base_uri": "https://localhost:8080/"
        },
        "id": "uLpyzmc9vt9V",
        "outputId": "f646e464-25bb-410f-f560-876de0eb55de"
      },
      "execution_count": null,
      "outputs": [
        {
          "output_type": "stream",
          "name": "stdout",
          "text": [
            "The factorial of 5 is 120\n"
          ]
        }
      ]
    },
    {
      "cell_type": "code",
      "source": [
        "#8.How can you iterate through the characters of a string using a for loop in Python?\n",
        "\n",
        "string_name = \"PrajktaOmkarYadav\"\n",
        "for element in string_name:\n",
        "    print(element, end=' ')\n",
        "print(\"\\n\")\n",
        "string_name = \"PRAJU\"\n",
        "for element in range(0, len(string_name)):\n",
        "    print(string_name[element])"
      ],
      "metadata": {
        "colab": {
          "base_uri": "https://localhost:8080/"
        },
        "id": "HvTSmjhWv8Rn",
        "outputId": "6e2fd6ad-2861-4872-f3ff-14e75348e7ab"
      },
      "execution_count": null,
      "outputs": [
        {
          "output_type": "stream",
          "name": "stdout",
          "text": [
            "P r a j k t a O m k a r Y a d a v \n",
            "\n",
            "P\n",
            "R\n",
            "A\n",
            "J\n",
            "U\n"
          ]
        }
      ]
    },
    {
      "cell_type": "code",
      "source": [
        "#9.Write a Python program to find the largest number in a list using a for loop.\n",
        "\n",
        "list1 = []\n",
        "num = int(input(\"Enter number of elements in list: \"))\n",
        "for i in range(1, num + 1):\n",
        "    ele = int(input(\"Enter elements: \"))\n",
        "    list1.append(ele)\n",
        "print(\"Largest element is:\", max(list1))"
      ],
      "metadata": {
        "colab": {
          "base_uri": "https://localhost:8080/"
        },
        "id": "25ECYTlwwlXE",
        "outputId": "30b4f73f-700c-42cf-f07c-ec8beb3c467d"
      },
      "execution_count": null,
      "outputs": [
        {
          "output_type": "stream",
          "name": "stdout",
          "text": [
            "Enter number of elements in list: 4\n",
            "Enter elements: 12\n",
            "Enter elements: 19\n",
            "Enter elements: 1\n",
            "Enter elements: 99\n",
            "Largest element is: 99\n"
          ]
        }
      ]
    },
    {
      "cell_type": "code",
      "source": [
        "#10.Create a Python program that prints the Fibonacci sequence up to a specified limit using a for loop.\n",
        "\n",
        "limit = 100\n",
        "a = 0\n",
        "b = 1\n",
        "print(a)\n",
        "for i in range(limit):\n",
        "    c = a + b\n",
        "    if c > limit:\n",
        "        break\n",
        "    print(c)\n",
        "    a = b\n",
        "    b = c"
      ],
      "metadata": {
        "colab": {
          "base_uri": "https://localhost:8080/"
        },
        "id": "eJZPdFuBwx16",
        "outputId": "1de9f36a-2952-4241-ff91-7ec82880c8ac"
      },
      "execution_count": null,
      "outputs": [
        {
          "output_type": "stream",
          "name": "stdout",
          "text": [
            "0\n",
            "1\n",
            "2\n",
            "3\n",
            "5\n",
            "8\n",
            "13\n",
            "21\n",
            "34\n",
            "55\n",
            "89\n"
          ]
        }
      ]
    },
    {
      "cell_type": "code",
      "source": [
        "#11.Write a Python program to count the number of vowels in a given string using a for loop.\n",
        "\n",
        "\n",
        "string = \"Hulkmaniacs are running wild in the whole world\"\n",
        "wordList = string.split()\n",
        "vowels = ['a', 'e', 'i', 'o', 'u', 'A', 'E', 'I', 'O', 'U']\n",
        "for word in wordList:\n",
        "    vowelCount = 0\n",
        "    for i in range(0, len(word)):\n",
        "        if word[i] in vowels:\n",
        "            vowelCount += 1\n",
        "    print(\"The word is\", word, \"and it contains\", vowelCount, \"vowels in it\")"
      ],
      "metadata": {
        "colab": {
          "base_uri": "https://localhost:8080/"
        },
        "id": "Jtb5YtItyLwg",
        "outputId": "a0ffe72f-ca1d-4294-ad98-3b3dd7b568ff"
      },
      "execution_count": null,
      "outputs": [
        {
          "output_type": "stream",
          "name": "stdout",
          "text": [
            "The word is Hulkmaniacs and it contains 4 vowels in it\n",
            "The word is are and it contains 2 vowels in it\n",
            "The word is running and it contains 2 vowels in it\n",
            "The word is wild and it contains 1 vowels in it\n",
            "The word is in and it contains 1 vowels in it\n",
            "The word is the and it contains 1 vowels in it\n",
            "The word is whole and it contains 2 vowels in it\n",
            "The word is world and it contains 1 vowels in it\n"
          ]
        }
      ]
    },
    {
      "cell_type": "code",
      "source": [
        "#12.Create a Python program that generates a multiplication table for a given number using a for loop.\n",
        "\n",
        "n = int(input(\"Enter any Number  :\"));\n",
        "\n",
        "for i in range(1,11):\n",
        " value = n * i\n",
        " print(n,\" * \",i,\" = \",value)"
      ],
      "metadata": {
        "colab": {
          "base_uri": "https://localhost:8080/"
        },
        "id": "USVAHf1E0k77",
        "outputId": "1a03c5a1-1b2e-44c3-ebae-b3329e29d88c"
      },
      "execution_count": null,
      "outputs": [
        {
          "output_type": "stream",
          "name": "stdout",
          "text": [
            "Enter any Number  :5\n",
            "5  *  1  =  5\n",
            "5  *  2  =  10\n",
            "5  *  3  =  15\n",
            "5  *  4  =  20\n",
            "5  *  5  =  25\n",
            "5  *  6  =  30\n",
            "5  *  7  =  35\n",
            "5  *  8  =  40\n",
            "5  *  9  =  45\n",
            "5  *  10  =  50\n"
          ]
        }
      ]
    },
    {
      "cell_type": "code",
      "source": [
        "#13.Write a Python program to reverse a list using a for loop.\n",
        "\n",
        "lst = [10, 11, 12, 13, 14, 15]\n",
        "l = []\n",
        "for i in lst:\n",
        "    l.insert(0, i)\n",
        "print(l)"
      ],
      "metadata": {
        "colab": {
          "base_uri": "https://localhost:8080/"
        },
        "id": "xLNKLf1h1but",
        "outputId": "48914c3f-7d80-48fc-ef83-e71dd018605f"
      },
      "execution_count": null,
      "outputs": [
        {
          "output_type": "stream",
          "name": "stdout",
          "text": [
            "[15, 14, 13, 12, 11, 10]\n"
          ]
        }
      ]
    },
    {
      "cell_type": "code",
      "source": [
        "#14.Write a Python program to find the common elements between two lists using a for loop.\n",
        "\n",
        "def common_member(a, b):\n",
        "    common_dict = {}\n",
        "    for elem in a:\n",
        "        if elem in common_dict:\n",
        "            common_dict[elem] += 1\n",
        "        else:\n",
        "            common_dict[elem] = 1\n",
        "    for elem in b:\n",
        "        if elem in common_dict:\n",
        "            common_dict[elem] += 1\n",
        "        else:\n",
        "            common_dict[elem] = 1\n",
        "    common = [elem for elem in common_dict if common_dict[elem] == 2]\n",
        "    if len(common) > 0:\n",
        "        return common\n",
        "    else:\n",
        "        return \"no common elements\"\n",
        "\n",
        "\n",
        "a = [1, 2, 3, 4, 5]\n",
        "b = [5, 6, 7, 8, 9]\n",
        "print(common_member(a, b))\n",
        "\n",
        "a = [1, 2, 3, 4, 5]\n",
        "b = [6, 7, 8, 9]\n",
        "print(common_member(a, b))"
      ],
      "metadata": {
        "colab": {
          "base_uri": "https://localhost:8080/"
        },
        "id": "hjJDSP6D1w8N",
        "outputId": "dec947d0-c10a-4869-a4c6-d54fb5811294"
      },
      "execution_count": null,
      "outputs": [
        {
          "output_type": "stream",
          "name": "stdout",
          "text": [
            "[5]\n",
            "no common elements\n"
          ]
        }
      ]
    },
    {
      "cell_type": "code",
      "source": [
        "#15.Explain how to use a for loop to iterate through the keys and values of a dictionary in python.\n",
        "\n",
        "\n",
        "statesAndCapitals = {\n",
        "    'Gujarat': 'Gandhinagar',\n",
        "    'Maharashtra': 'Mumbai',\n",
        "    'Rajasthan': 'Jaipur',\n",
        "    'Bihar': 'Patna'\n",
        "}\n",
        "print('List Of given capitals:\\n')\n",
        "\n",
        "for capital in statesAndCapitals.values():\n",
        "    print(capital)\n"
      ],
      "metadata": {
        "colab": {
          "base_uri": "https://localhost:8080/"
        },
        "id": "LTqy13Q837-8",
        "outputId": "503cfafc-55b7-4387-9a78-820f72deadf3"
      },
      "execution_count": null,
      "outputs": [
        {
          "output_type": "stream",
          "name": "stdout",
          "text": [
            "List Of given capitals:\n",
            "\n",
            "Gandhinagar\n",
            "Mumbai\n",
            "Jaipur\n",
            "Patna\n"
          ]
        }
      ]
    },
    {
      "cell_type": "code",
      "source": [
        "#16.Write a Python program to find the GCD (Greatest Common Divisor) of two numbers using a for loop.\n",
        "\n",
        "num1 = int(input(\"First  : \"))\n",
        "num2 = int(input(\"Second : \"))\n",
        "\n",
        "for i in range(1, min(num1, num2) + 1):\n",
        "    if num1 % i == 0 and num2 % i == 0:\n",
        "        result = i\n",
        "\n",
        "print(result)"
      ],
      "metadata": {
        "colab": {
          "base_uri": "https://localhost:8080/"
        },
        "id": "h7Vwh7Tg6JuM",
        "outputId": "a2a096f0-424e-47bd-f51d-8c103af77d5f"
      },
      "execution_count": null,
      "outputs": [
        {
          "output_type": "stream",
          "name": "stdout",
          "text": [
            "First  : 15\n",
            "Second : 20\n",
            "5\n"
          ]
        }
      ]
    },
    {
      "cell_type": "code",
      "source": [
        "#17.Create a Python program that checks if a string is a palindrome using a for loop.\n",
        "\n",
        "def isPalindrome(str):\n",
        "    for i in range(0, int(len(str)/2)):\n",
        "        if str[i] != str[len(str)-i-1]:\n",
        "            return False\n",
        "    return True\n",
        "s = \"maharashatra\"\n",
        "ans = isPalindrome(s)\n",
        "\n",
        "if (ans):\n",
        "    print(\"Yes\")\n",
        "else:\n",
        "    print(\"No\")"
      ],
      "metadata": {
        "colab": {
          "base_uri": "https://localhost:8080/"
        },
        "id": "368c6mrB6qIG",
        "outputId": "6b9eb53e-1cab-4d62-baeb-19e2073d859c"
      },
      "execution_count": null,
      "outputs": [
        {
          "output_type": "stream",
          "name": "stdout",
          "text": [
            "No\n"
          ]
        }
      ]
    },
    {
      "cell_type": "code",
      "source": [
        "#18.Write a Python program to remove duplicates from a list using a for loop.\n",
        "\n",
        "def Remove(duplicate):\n",
        "    final_list = []\n",
        "    for num in duplicate:\n",
        "        if num not in final_list:\n",
        "            final_list.append(num)\n",
        "    return final_list\n",
        "\n",
        "duplicate = [2, 4, 10, 20, 5, 2, 20, 4]\n",
        "print(Remove(duplicate))"
      ],
      "metadata": {
        "colab": {
          "base_uri": "https://localhost:8080/"
        },
        "id": "hnXHecqg7HVK",
        "outputId": "bfa13e23-4c20-4e25-eb45-62d18468e583"
      },
      "execution_count": null,
      "outputs": [
        {
          "output_type": "stream",
          "name": "stdout",
          "text": [
            "[2, 4, 10, 20, 5]\n"
          ]
        }
      ]
    },
    {
      "cell_type": "code",
      "source": [
        "#19.Create a Python program that counts the number of words in a sentence using a for loop.\n",
        "\n",
        "s='prajktprakjtakprajktaplfjprajkta'\n",
        "b='prajkta'\n",
        "def count_words(s,b):\n",
        "    answer = 0\n",
        "    for i in range(len(s)):\n",
        "        if any(s[i:].startswith(p) for b in s):\n",
        "           answer += 1\n",
        "    print(answer)"
      ],
      "metadata": {
        "id": "dSH-Hb4z7aK8"
      },
      "execution_count": null,
      "outputs": []
    },
    {
      "cell_type": "code",
      "source": [
        "#20Write a Python program to find the sum of all odd numbers from 1 to 50 using a for loop.\n",
        "\n",
        "maximum = int(input(\" Please Enter the Maximum Value : \"))\n",
        "Oddtotal = 0\n",
        "\n",
        "for number in range(1, maximum+1):\n",
        "    if(number % 2 != 0):\n",
        "        print(\"{0}\".format(number))\n",
        "        Oddtotal = Oddtotal + number\n",
        "\n",
        "print(\"The Sum of Odd Numbers from 1 to {0} = {1}\".format(number, Oddtotal))"
      ],
      "metadata": {
        "colab": {
          "base_uri": "https://localhost:8080/"
        },
        "id": "33fPEZf97tII",
        "outputId": "71b44ddc-75f1-415f-c92d-00f2f643a5c4"
      },
      "execution_count": null,
      "outputs": [
        {
          "output_type": "stream",
          "name": "stdout",
          "text": [
            " Please Enter the Maximum Value : 8\n",
            "1\n",
            "3\n",
            "5\n",
            "7\n",
            "The Sum of Odd Numbers from 1 to 8 = 16\n"
          ]
        }
      ]
    },
    {
      "cell_type": "code",
      "source": [
        "#21.Write a Python program that checks if a given year is a leap year using a for loop.\n",
        "\n",
        "year = int(input(\"Please enter the year you would like to start checking leap years form.\"))\n",
        "leap_year=0\n",
        "if year% 4==0 and (year % 100 !=0 or year % 400 ==0):\n",
        "  leap_year = (\"this is a leap year\")\n",
        "else:\n",
        "  leap_year = (\"this is not a leap year\")\n",
        "for a in range (0,total_years):\n",
        "  print(year + a, leap_year)\n"
      ],
      "metadata": {
        "id": "X8P_T6je8gNa",
        "colab": {
          "base_uri": "https://localhost:8080/"
        },
        "outputId": "338acf9f-8973-4057-f708-d9042cc646a5"
      },
      "execution_count": null,
      "outputs": [
        {
          "output_type": "stream",
          "name": "stdout",
          "text": [
            "Please enter the year you would like to start checking leap years form.2004\n",
            "2004 this is a leap year\n",
            "2005 this is a leap year\n"
          ]
        }
      ]
    },
    {
      "cell_type": "code",
      "source": [
        "#22.Create a Python program that calculates the square root of a number using a for loop.\n",
        "\n",
        "import math\n",
        "\n",
        "numbers = [4,81,64,9,25]\n",
        "square_root = []\n",
        "\n",
        "for number in numbers:\n",
        "    square_root.append(math.sqrt(number))\n",
        "\n",
        "print(square_root)\n"
      ],
      "metadata": {
        "id": "TO5SkocF9BMC",
        "colab": {
          "base_uri": "https://localhost:8080/"
        },
        "outputId": "c014e70a-c681-4e3b-893b-fb94b32f14f8"
      },
      "execution_count": null,
      "outputs": [
        {
          "output_type": "stream",
          "name": "stdout",
          "text": [
            "[2.0, 9.0, 8.0, 3.0, 5.0]\n"
          ]
        }
      ]
    },
    {
      "cell_type": "code",
      "source": [
        "#23.Write a Python program to find the LCM (Least Common Multiple) of two numbers using a for loop.\n",
        "\n",
        "number1 = 6\n",
        "number2 = 8\n",
        "for i in range(1, number1 + 1):\n",
        "    a = number1 * i\n",
        "    for j in range(1, number2 + 1):\n",
        "        b = number2 * j\n",
        "        if b == a:\n",
        "            print(number)"
      ],
      "metadata": {
        "id": "dyneAmE99QkF",
        "colab": {
          "base_uri": "https://localhost:8080/"
        },
        "outputId": "4c01af07-fbc6-4029-cc8a-e3251dfb143e"
      },
      "execution_count": null,
      "outputs": [
        {
          "output_type": "stream",
          "name": "stdout",
          "text": [
            "25\n"
          ]
        }
      ]
    },
    {
      "cell_type": "code",
      "source": [
        "# IF ELSE"
      ],
      "metadata": {
        "id": "-YV4IcnIX33R"
      },
      "execution_count": null,
      "outputs": []
    },
    {
      "cell_type": "code",
      "source": [
        "#1.Write a Python program to check if a number is positive, negative, or zero using an if-else statement.\n",
        "\n",
        "\n",
        "def check(n):\n",
        "    if n > 0:\n",
        "        print(\"Positive\")\n",
        "    elif n < 0:\n",
        "        print(\"Negative\")\n",
        "    else:\n",
        "        print(\"Equal to zero\")\n",
        "check(5)\n",
        "check(0)\n",
        "check(-5)"
      ],
      "metadata": {
        "colab": {
          "base_uri": "https://localhost:8080/"
        },
        "id": "oqmupCUnX8xU",
        "outputId": "1cf62174-4750-4ad6-a333-7d6f16bdfb67"
      },
      "execution_count": null,
      "outputs": [
        {
          "output_type": "stream",
          "name": "stdout",
          "text": [
            "Positive\n",
            "Equal to zero\n",
            "Negative\n"
          ]
        }
      ]
    },
    {
      "cell_type": "code",
      "source": [
        "#2.Create a Python program that checks if a given number is even or odd using an if-else statement\n",
        "\n",
        "\n",
        "num = int(input(\"Enter a number: \"))\n",
        "if (num % 2) == 0:\n",
        "   print(\"{0} is Even\".format(num))\n",
        "else:\n",
        "   print(\"{0} is Odd\".format(num))"
      ],
      "metadata": {
        "colab": {
          "base_uri": "https://localhost:8080/"
        },
        "id": "P8qaCy4JYRqs",
        "outputId": "0e303858-c806-4c02-b8b7-0633d309a8fc"
      },
      "execution_count": null,
      "outputs": [
        {
          "output_type": "stream",
          "name": "stdout",
          "text": [
            "Enter a number: 64\n",
            "64 is Even\n"
          ]
        }
      ]
    },
    {
      "cell_type": "code",
      "source": [
        "#3.How can you use nested if-else statements in Python, and provide an example?\n",
        "\n",
        "# The nested if statement inside another if statement with or without an else statement\n",
        "i = 13\n",
        "\n",
        "\n",
        "if (i == 13):\n",
        "    if (i < 15):\n",
        "        print (\"i is smaller than 15\")\n",
        "    if (i < 12):\n",
        "        print (\"i is smaller than 12 too\")\n",
        "    else:\n",
        "        print (\"i is greater than 12 and smaller than 15\")\n",
        "\n"
      ],
      "metadata": {
        "colab": {
          "base_uri": "https://localhost:8080/"
        },
        "id": "FXORd6V9YgaA",
        "outputId": "aadcd4b2-aedc-479c-eee9-72b31994f41f"
      },
      "execution_count": null,
      "outputs": [
        {
          "output_type": "stream",
          "name": "stdout",
          "text": [
            "i is smaller than 15\n",
            "i is greater than 12 and smaller than 15\n"
          ]
        }
      ]
    },
    {
      "cell_type": "code",
      "source": [
        "#4.Write a Python program to determine the largest of three numbers using if-else.\n",
        "\n",
        "\n",
        "def maximum(a, b, c):\n",
        "    if (a >= b) and (a >= c):\n",
        "        largest = a\n",
        "\n",
        "    elif (b >= a) and (b >= c):\n",
        "        largest = b\n",
        "    else:\n",
        "        largest = c\n",
        "\n",
        "    return largest\n",
        "\n",
        "\n",
        "res = maximum(2, 5, 10)\n",
        "\n",
        "print(\"The largest number is\", res)"
      ],
      "metadata": {
        "colab": {
          "base_uri": "https://localhost:8080/"
        },
        "id": "Yf_2uQkYajop",
        "outputId": "5b8d51cd-e09d-4668-c58f-cd6aeb7f1d77"
      },
      "execution_count": null,
      "outputs": [
        {
          "output_type": "stream",
          "name": "stdout",
          "text": [
            "The largest number is 10\n"
          ]
        }
      ]
    },
    {
      "cell_type": "code",
      "source": [
        "#5.Write a Python program that calculates the absolute value of a number using if-else.\n",
        "\n",
        "\n",
        "number = float(input(\"Enter a number: \"))\n",
        "if number < 0:\n",
        "    absolute_value = -number\n",
        "else:\n",
        "    absolute_value = number\n",
        "print(\"Absolute value: \" + str(absolute_value))"
      ],
      "metadata": {
        "colab": {
          "base_uri": "https://localhost:8080/"
        },
        "id": "D8K1HWlnbE-h",
        "outputId": "b6c6da90-d17a-436e-fdd5-cb90031e34ed"
      },
      "execution_count": null,
      "outputs": [
        {
          "output_type": "stream",
          "name": "stdout",
          "text": [
            "Enter a number: 15\n",
            "Absolute value: 15.0\n"
          ]
        }
      ]
    },
    {
      "cell_type": "code",
      "source": [
        "#6.Create a Python program that checks if a given character is a vowel or consonant using if-else.\n",
        "\n",
        "\n",
        "def vowelOrConsonant(x):\n",
        "\n",
        "    if (x == 'a' or x == 'e' or\n",
        "        x == 'i' or x == 'o' or x == 'u'):\n",
        "        print(\"Vowel\")\n",
        "    else:\n",
        "        print(\"Consonant\")\n",
        "vowelOrConsonant('c')\n",
        "vowelOrConsonant('e')"
      ],
      "metadata": {
        "colab": {
          "base_uri": "https://localhost:8080/"
        },
        "id": "xy-nJS5lbcHa",
        "outputId": "33baa1f7-f0a7-43db-ea5c-ea7321245190"
      },
      "execution_count": null,
      "outputs": [
        {
          "output_type": "stream",
          "name": "stdout",
          "text": [
            "Consonant\n",
            "Vowel\n"
          ]
        }
      ]
    },
    {
      "cell_type": "code",
      "source": [
        "#7.Write a Python program to determine if a user is eligible to vote based on their age using if-else.\n",
        "\n",
        "age = int(input(\"Enter you age: \"))\n",
        "\n",
        "if age >= 18:\n",
        "    print(\"You are eligible to vote\")\n",
        "else:\n",
        "    print(\"You are not eligible to vote\")"
      ],
      "metadata": {
        "colab": {
          "base_uri": "https://localhost:8080/"
        },
        "id": "FJPawDTxbqpK",
        "outputId": "7f457558-a256-4203-a288-ff2f6e6447b7"
      },
      "execution_count": null,
      "outputs": [
        {
          "output_type": "stream",
          "name": "stdout",
          "text": [
            "Enter you age: 22\n",
            "You are eligible to vote\n"
          ]
        }
      ]
    },
    {
      "cell_type": "code",
      "source": [
        "#8.Create a Python program that calculates the discount amount based on the purchase amount using if-else\n",
        "\n",
        "amt = int(input(\"Enter Sale Amount: \"))\n",
        "if(amt>0):\n",
        "    if amt<=5000:\n",
        "       disc = amt*0.05\n",
        "    elif amt<=15000:\n",
        "        disc=amt*0.12\n",
        "    elif amt<=25000:\n",
        "        disc=0.2 * amt\n",
        "    else:\n",
        "         disc=0.3 * amt\n",
        "\n",
        "    print(\"Discount : \",disc)\n",
        "    print(\"Net Pay  : \",amt-disc)\n",
        "else:\n",
        "    print(\"Invalid Amount\")\n"
      ],
      "metadata": {
        "colab": {
          "base_uri": "https://localhost:8080/"
        },
        "id": "NMpvezfpcbgz",
        "outputId": "cf5d53ed-319e-4a18-cb2d-d3745ac669ae"
      },
      "execution_count": null,
      "outputs": [
        {
          "output_type": "stream",
          "name": "stdout",
          "text": [
            "Enter Sale Amount: 500\n",
            "Discount :  25.0\n",
            "Net Pay  :  475.0\n"
          ]
        }
      ]
    },
    {
      "cell_type": "code",
      "source": [
        "#9.Write a Python program to check if a number is within a specified range using if-else\n",
        "\n",
        "total = int(input(\"How many students are there \"))\n",
        "print(\"Please enter their scores, between 1 - 100\")\n",
        "\n",
        "myList = []\n",
        "for i in range (total):\n",
        "    n = int(input(\"Enter a test score >> \"))\n",
        "\n",
        "    myList.append(n)"
      ],
      "metadata": {
        "colab": {
          "base_uri": "https://localhost:8080/"
        },
        "id": "BjMqWgNkcvth",
        "outputId": "01ab5c01-fdf2-4eb1-bb50-0b4b94dc73d2"
      },
      "execution_count": null,
      "outputs": [
        {
          "name": "stdout",
          "output_type": "stream",
          "text": [
            "How many students are there 2\n",
            "Please enter their scores, between 1 - 100\n",
            "Enter a test score >> 90\n",
            "Enter a test score >> 98\n"
          ]
        }
      ]
    },
    {
      "cell_type": "code",
      "source": [
        "#10.Create a Python program that determines the grade of a student based on their score using if-else\n",
        "\n",
        "mark = []\n",
        "tot = 0\n",
        "print(\"Enter Marks Obtained in 5 Subjects: \")\n",
        "for i in range(5):\n",
        "    mark.insert(i, input())\n",
        "\n",
        "for i in range(5):\n",
        "    tot = tot + int(mark[i])\n",
        "avg = tot/5\n",
        "\n",
        "if avg>=91 and avg<=100:\n",
        "    print(\"Your Grade is A1\")\n",
        "elif avg>=81 and avg<91:\n",
        "    print(\"Your Grade is A2\")\n",
        "elif avg>=71 and avg<81:\n",
        "    print(\"Your Grade is B1\")\n",
        "elif avg>=61 and avg<71:\n",
        "    print(\"Your Grade is B2\")\n",
        "elif avg>=51 and avg<61:\n",
        "    print(\"Your Grade is C1\")\n",
        "elif avg>=41 and avg<51:\n",
        "    print(\"Your Grade is C2\")\n",
        "elif avg>=33 and avg<41:\n",
        "    print(\"Your Grade is D\")\n",
        "elif avg>=21 and avg<33:\n",
        "    print(\"Your Grade is E1\")\n",
        "elif avg>=0 and avg<21:\n",
        "    print(\"Your Grade is E2\")\n",
        "else:\n",
        "    print(\"Invalid Input!\")\n"
      ],
      "metadata": {
        "colab": {
          "base_uri": "https://localhost:8080/"
        },
        "id": "caXHOzKWdSoB",
        "outputId": "b2d2142a-a705-45fb-c3aa-60bb2ed850a5"
      },
      "execution_count": null,
      "outputs": [
        {
          "output_type": "stream",
          "name": "stdout",
          "text": [
            "Enter Marks Obtained in 5 Subjects: \n",
            "80\n",
            "98\n",
            "90\n",
            "89\n",
            "778\n",
            "Invalid Input!\n"
          ]
        }
      ]
    },
    {
      "cell_type": "code",
      "source": [
        "#11.Write a Python program to check if a string is empty or not using if-else\n",
        "\n",
        "test_str1 = \"\"\n",
        "test_str2 = \"  \"\n",
        "print(\"The zero length string without spaces is empty ? : \", end=\"\")\n",
        "if(len(test_str1) == 0):\n",
        "    print(\"Yes\")\n",
        "else:\n",
        "    print(\"No\")\n",
        "print(\"The zero length string with just spaces is empty ? : \", end=\"\")\n",
        "if(len(test_str2) == 0):\n",
        "    print(\"Yes\")\n",
        "else:\n",
        "    print(\"No\")\n"
      ],
      "metadata": {
        "colab": {
          "base_uri": "https://localhost:8080/"
        },
        "id": "KRyVvEeRClMy",
        "outputId": "e04c5bd6-85ed-49de-8136-aa3d7038e962"
      },
      "execution_count": null,
      "outputs": [
        {
          "output_type": "stream",
          "name": "stdout",
          "text": [
            "The zero length string without spaces is empty ? : Yes\n",
            "The zero length string with just spaces is empty ? : No\n"
          ]
        }
      ]
    },
    {
      "cell_type": "code",
      "source": [
        "#12.Create a Python program that identifies the type of a triangle (e.g., equilateral, isosceles, or scalene) based on input values using if-else\n",
        "\n",
        "\n",
        "def is_valid_triangle(a,b,c):\n",
        "    if a+b>=c and b+c>=a and c+a>=b:\n",
        "        return True\n",
        "    else:\n",
        "        return False\n",
        "def type_of_triangle(a,b,c):\n",
        "    if a==b and b==c:\n",
        "        print('Triangle is Equilateral.')\n",
        "    elif a==b or b==c or a==c:\n",
        "        print('Triangle is Isosceles.')\n",
        "    else:\n",
        "        print('Triangle is Scalane')\n",
        "side_a = float(input('Enter length of side a: '))\n",
        "side_b = float(input('Enter length of side b: '))\n",
        "side_c = float(input('Enter length of side c: '))\n",
        "if is_valid_triangle(side_a, side_b, side_c):\n",
        "    type_of_triangle(side_a, side_b, side_c)\n",
        "else:\n",
        "    print('Tringle is not possible from given sides.')"
      ],
      "metadata": {
        "colab": {
          "base_uri": "https://localhost:8080/"
        },
        "id": "XI5_jCiZDKEE",
        "outputId": "dda1bd57-211b-4614-c6fe-17c00bbeaebc"
      },
      "execution_count": null,
      "outputs": [
        {
          "output_type": "stream",
          "name": "stdout",
          "text": [
            "Enter length of side a: 5\n",
            "Enter length of side b: 8\n",
            "Enter length of side c: 9\n",
            "Triangle is Scalane\n"
          ]
        }
      ]
    },
    {
      "cell_type": "code",
      "source": [
        "#13.Write a Python program to determine the day of the week based on a user-provided number using if-else\n",
        "\n",
        "import datetime\n",
        "import calendar\n",
        "\n",
        "def check_weekday_or_weekend(date):\n",
        "    try:\n",
        "        given_date = datetime.datetime.strptime(date, '%d %m %Y')\n",
        "        day_of_week = (given_date.weekday() + 1) % 7\n",
        "\n",
        "        if day_of_week < 5:\n",
        "            day_type = 'weekday'\n",
        "        else:\n",
        "            day_type = 'weekend'\n",
        "        print(f\"The day of the week for {given_date.strftime('%Y-%m-%d')} is {day_of_week} ({day_type})\")\n",
        "\n",
        "    except ValueError as e:\n",
        "        print(f\"Error: {e}\")\n",
        "date = '15 10 1989'\n",
        "check_weekday_or_weekend(date)\n"
      ],
      "metadata": {
        "colab": {
          "base_uri": "https://localhost:8080/"
        },
        "id": "gAcWO4G3Da-h",
        "outputId": "0254b2fd-694b-4817-ce66-6a3612c9494d"
      },
      "execution_count": null,
      "outputs": [
        {
          "output_type": "stream",
          "name": "stdout",
          "text": [
            "The day of the week for 1989-10-15 is 0 (weekday)\n"
          ]
        }
      ]
    },
    {
      "cell_type": "code",
      "source": [
        "#14.Create a Python program that checks if a given year is a leap year using both if-else and a function\n",
        "\n",
        "\n",
        "year = 1982\n",
        "if (year % 400 == 0) and (year % 100 == 0):\n",
        "    print(\"{0} is a leap year\".format(year))\n",
        "elif (year % 4 ==0) and (year % 100 != 0):\n",
        "    print(\"{0} is a leap year\".format(year))\n",
        "else:\n",
        "    print(\"{0} is not a leap year\".format(year))"
      ],
      "metadata": {
        "colab": {
          "base_uri": "https://localhost:8080/"
        },
        "id": "JxB2Rgt-Dor7",
        "outputId": "f4efbce3-dfb3-499c-b2e9-d56c6cfa1998"
      },
      "execution_count": null,
      "outputs": [
        {
          "output_type": "stream",
          "name": "stdout",
          "text": [
            "1982 is not a leap year\n"
          ]
        }
      ]
    },
    {
      "cell_type": "code",
      "source": [
        "#15.How do you use the \"assert\" statement in Python to add debugging checks within if-else blocks?\n",
        "\n",
        "\n",
        "x=5\n",
        "if x> 0:\n",
        "  assert x<10,\"x should be less than 10\"\n",
        "  print(\"x is greater than 0 and less then 10 \")\n",
        "else:\n",
        "  assert x>= 0,\"x should be non-negative\"\n",
        "  print(\"x is non-negative\")"
      ],
      "metadata": {
        "colab": {
          "base_uri": "https://localhost:8080/"
        },
        "id": "uFFs0hoTDzo5",
        "outputId": "316535a4-7229-4ea5-deb5-1d215fe8ded5"
      },
      "execution_count": null,
      "outputs": [
        {
          "output_type": "stream",
          "name": "stdout",
          "text": [
            "x is greater than 0 and less then 10 \n"
          ]
        }
      ]
    },
    {
      "cell_type": "code",
      "source": [
        "#16.Create a Python program that determines the eligibility of a person for a senior citizen discount based on age using if-else\n",
        "\n",
        "def check_senior_discount(age):\n",
        "  if age >= 70:\n",
        "    print(\"COngratulations! You are eligible for a senior citizen discount.\")\n",
        "  else:\n",
        "    print(\"Sorry,You are not eligible for senior citizen discount\")\n",
        "\n",
        "citizen_age=int(input(\"Enter your age: \"))\n",
        "check_senior_discount(citizen_age)"
      ],
      "metadata": {
        "colab": {
          "base_uri": "https://localhost:8080/"
        },
        "id": "1JUX1onwENgg",
        "outputId": "745b48b0-0a6f-4cab-f3df-b47e51e618e4"
      },
      "execution_count": null,
      "outputs": [
        {
          "output_type": "stream",
          "name": "stdout",
          "text": [
            "Enter your age: 69\n",
            "Sorry,You are not eligible for senior citizen discount\n"
          ]
        }
      ]
    },
    {
      "cell_type": "code",
      "source": [
        "#17Write a Python program to categorize a given character as uppercase, lowercase, or neither using if-else.\n",
        "\n",
        "def categorize_character(char):\n",
        "  if char.islower():\n",
        "    print(f\"{char} is  lowercase character\")\n",
        "  elif char.isupper():\n",
        "    print(f\"{char} is uppercase character\")\n",
        "  else:\n",
        "    print(f\"{char} is neither uppercase nor lowercase\")\n",
        "\n",
        "user_input=input(\"Enter the character\")\n",
        "if len(user_input) == 1:\n",
        "  categorize_character(user_input)\n",
        "else:\n",
        "  print(\"Enter only one character\")\n"
      ],
      "metadata": {
        "colab": {
          "base_uri": "https://localhost:8080/"
        },
        "id": "M_yUC93QENXH",
        "outputId": "474816be-961d-4acd-dd40-78476b747fca"
      },
      "execution_count": null,
      "outputs": [
        {
          "output_type": "stream",
          "name": "stdout",
          "text": [
            "Enter the characterp\n",
            "p is  lowercase character\n"
          ]
        }
      ]
    },
    {
      "cell_type": "code",
      "source": [
        "#18.Write a Python program to determine the roots of a quadratic equation using if-else\n",
        "\n",
        "import math\n",
        "def quadratic_roots(a,b,c):\n",
        "  discriminant=b**2 - 4*a*c\n",
        "\n",
        "  if discriminant>0:\n",
        "    root1 = (-b + math.sqrt(discriminant)) / (2*a)\n",
        "    root2 = (-b - math.sqrt(discriminant))  (2*a)\n",
        "    print(f\"The roots of the quadratic equation are real and distinct:{root1} and {root2}\")\n",
        "  elif discriminant == 0:\n",
        "    root = -b / (2*a)\n",
        "    print(f\"The quadratic equation has one real root:{root}\")\n",
        "  else:\n",
        "    real_part = -b /(2*a)\n",
        "    imaginary_part = math.sqrt(abs(discriminant)) / (2*a)\n",
        "    print(f\"The roots of the quadratic equation are complex: {real_part} + {imaginary_part}i and{real_part} - {imaginary_part}i\")\n",
        "\n",
        "a = float(input(\"Enter the coefficient a:\"))\n",
        "b = float(input(\"Enter the coefficient b:\"))\n",
        "c = float(input(\"Enter the coefficient c:\"))\n",
        "\n",
        "quadratic_roots(a,b,c)"
      ],
      "metadata": {
        "colab": {
          "base_uri": "https://localhost:8080/"
        },
        "id": "iQhAYafAENKn",
        "outputId": "f234bbee-b2ea-4a4c-d862-b73e77f8366a"
      },
      "execution_count": null,
      "outputs": [
        {
          "output_type": "stream",
          "name": "stdout",
          "text": [
            "Enter the coefficient a:5\n",
            "Enter the coefficient b:1\n",
            "Enter the coefficient c:3\n",
            "The roots of the quadratic equation are complex: -0.1 + 0.7681145747868607i and-0.1 - 0.7681145747868607i\n"
          ]
        }
      ]
    },
    {
      "cell_type": "code",
      "source": [
        "#19.Create a Python program that checks if a given year is a century year or not using if-else\n",
        "def is_century_year(year):\n",
        "  if year % 100 == 0:\n",
        "    print(f\"{year} is a century year\")\n",
        "  else:\n",
        "    print(f\"{year} is not a century year\")\n",
        "\n",
        "user_year = int(input(\"Enter a year :\"))\n",
        "is_century_year(user_year)\n",
        "\n",
        "\n"
      ],
      "metadata": {
        "colab": {
          "base_uri": "https://localhost:8080/"
        },
        "id": "hDM8CjWpEM7m",
        "outputId": "eeea6cea-c04a-4deb-f6c6-960e456be4a7"
      },
      "execution_count": null,
      "outputs": [
        {
          "output_type": "stream",
          "name": "stdout",
          "text": [
            "Enter a year :2002\n",
            "2002 is not a century year\n"
          ]
        }
      ]
    },
    {
      "cell_type": "code",
      "source": [
        "#20.Write a Python program to determine if a given number is a perfect square using if-else\n",
        "\n",
        "def is_perfect_square(number):\n",
        "  square_root = int(number**0.5)\n",
        "  if square_root**2 == number:\n",
        "    print(f\"{number} is a perfect square\")\n",
        "  else:\n",
        "    print(f\"{number} is not perfect square\")\n",
        "\n",
        "\n",
        "user_number = int(input(\"Enter a number\"))\n",
        "is_perfect_square(user_number)\n"
      ],
      "metadata": {
        "colab": {
          "base_uri": "https://localhost:8080/"
        },
        "id": "-NMJg-PZMmG8",
        "outputId": "7674c400-bedd-4c48-adec-90d7b8eac9fc"
      },
      "execution_count": null,
      "outputs": [
        {
          "output_type": "stream",
          "name": "stdout",
          "text": [
            "Enter a number64\n",
            "64 is a perfect square\n"
          ]
        }
      ]
    },
    {
      "cell_type": "code",
      "source": [
        "#21.Explain the purpose of the \"continue\" and \"break\" statements within if-else loops\n",
        "#1.\n",
        "for i in range(5):\n",
        "  if i == 2:\n",
        "    continue\n",
        "  print(i)\n",
        "\n",
        "\n",
        "\n",
        "  #2.\n",
        "  for i in range(5):\n",
        "    if i == 4:\n",
        "      break\n",
        "    print(i)"
      ],
      "metadata": {
        "colab": {
          "base_uri": "https://localhost:8080/"
        },
        "id": "M6DU8i4yNQ-6",
        "outputId": "fbe2ba2d-f981-4103-a8b2-ea30640a8ba0"
      },
      "execution_count": null,
      "outputs": [
        {
          "output_type": "stream",
          "name": "stdout",
          "text": [
            "0\n",
            "0\n",
            "1\n",
            "2\n",
            "3\n",
            "1\n",
            "0\n",
            "1\n",
            "2\n",
            "3\n",
            "3\n",
            "0\n",
            "1\n",
            "2\n",
            "3\n",
            "4\n",
            "0\n",
            "1\n",
            "2\n",
            "3\n"
          ]
        }
      ]
    },
    {
      "cell_type": "code",
      "source": [
        "#22.Create a Python program that calculates the BMI (Body Mass Index) of a person based on their weight and height using if-else\n",
        "\n",
        "\n",
        "def calculate_bmi(weight,height):\n",
        "  height_in_meters = height/100\n",
        "\n",
        "  bmi = weight / (height_in_meters ** 2)\n",
        "\n",
        "  if bmi < 18.5:\n",
        "    category = \"Underweight\"\n",
        "  elif 18.5<= bmi < 24.9:\n",
        "    category = \"Normal weight\"\n",
        "  elif 25<= bmi < 29.9:\n",
        "    category = \"Overweight\"\n",
        "  else:\n",
        "    category = \"Obese\"\n",
        "\n",
        "  print(f\"Your BMI is :{bmi:2f}\")\n",
        "  print(f\"You are categozed as:{category}\")\n",
        "\n",
        "user_weight = float(input(\"Enter your weight in kg\"))\n",
        "user_height = float(input(\"Enter your height in cm\"))\n",
        "\n",
        "\n",
        "\n"
      ],
      "metadata": {
        "colab": {
          "base_uri": "https://localhost:8080/"
        },
        "id": "owB_0ZkAN8zW",
        "outputId": "f2a4754b-7bbf-4732-c1c6-fbc2526b2912"
      },
      "execution_count": null,
      "outputs": [
        {
          "name": "stdout",
          "output_type": "stream",
          "text": [
            "Enter your weight in kg47\n",
            "Enter your height in cm153\n"
          ]
        }
      ]
    },
    {
      "cell_type": "code",
      "source": [
        "#23.How can you use the \"filter()\" function with if-else statements to filter elements from a list?\n",
        "\n",
        "numbers = [1, 2, 3, 4, 5, 6, 7, 8, 9]\n",
        "def is_even(num):\n",
        "    return num % 2 == 0\n",
        "filtered_numbers = filter(lambda x: \"Even\" if is_even(x) else \"Odd\", numbers)\n",
        "result_list = list(filtered_numbers)\n",
        "print(result_list)\n",
        "\n"
      ],
      "metadata": {
        "id": "eveM4D1gObtg",
        "colab": {
          "base_uri": "https://localhost:8080/"
        },
        "outputId": "6dee1f6b-3c48-4091-a823-009dbb172ec1"
      },
      "execution_count": null,
      "outputs": [
        {
          "output_type": "stream",
          "name": "stdout",
          "text": [
            "[1, 2, 3, 4, 5, 6, 7, 8, 9]\n"
          ]
        }
      ]
    },
    {
      "cell_type": "code",
      "source": [
        "#24.Write a Python program to determine if a given number is prime or not using if-else\n",
        "\n",
        "def is_prime(number):\n",
        "    if number < 2:\n",
        "        return False\n",
        "\n",
        "    for i in range(2, int(number**0.5) + 1):\n",
        "        if number % i == 0:\n",
        "            return False\n",
        "    return True\n",
        "user_input = input(\"Enter a number: \")\n",
        "\n",
        "try:\n",
        "    num = int(user_input)\n",
        "    if is_prime(num):\n",
        "        print(f\"{num} is a prime number.\")\n",
        "    else:\n",
        "        print(f\"{num} is not a prime number.\")\n",
        "except ValueError:\n",
        "    print(\"Invalid input. Please enter a valid integer.\")\n",
        "\n"
      ],
      "metadata": {
        "id": "Ll1u85phOfhR",
        "colab": {
          "base_uri": "https://localhost:8080/"
        },
        "outputId": "bc63817b-0b23-4b6b-d464-772903146706"
      },
      "execution_count": null,
      "outputs": [
        {
          "output_type": "stream",
          "name": "stdout",
          "text": [
            "Enter a number: 5\n",
            "5 is a prime number.\n"
          ]
        }
      ]
    },
    {
      "cell_type": "code",
      "source": [
        "#MAP"
      ],
      "metadata": {
        "id": "KjIapsVtWuFL"
      },
      "execution_count": null,
      "outputs": []
    },
    {
      "cell_type": "code",
      "source": [
        "#1.Explain the purpose of the `map()` function in Python and provide an example of how it can be used to apply a function to each element of an iterable.\n",
        "\n",
        "numbers =[1,2,3,4,5,6]\n",
        "squared_numbers = map(lambda x: x**2, numbers)\n",
        "result_list = list(squared_numbers)\n",
        "print(result_list)\n",
        "\n",
        "\n",
        "\n",
        "# 2nd example\n",
        "\n",
        "numbers= [1,2,3,4,5]\n",
        "string_numbers = map(str, numbers)\n",
        "result_list = list(string_numbers)\n",
        "print(result_list)\n",
        "\n"
      ],
      "metadata": {
        "colab": {
          "base_uri": "https://localhost:8080/"
        },
        "id": "ULcQzCcRXcyq",
        "outputId": "6418d02c-2dfa-4cf1-bf6b-a77b085b8e3c"
      },
      "execution_count": null,
      "outputs": [
        {
          "output_type": "stream",
          "name": "stdout",
          "text": [
            "[1, 4, 9, 16, 25, 36]\n",
            "['1', '2', '3', '4', '5']\n"
          ]
        }
      ]
    },
    {
      "cell_type": "code",
      "source": [
        "#2.Write a Python program that uses the `map()` function to square each element of a list of numbers\n",
        "\n",
        "def square_number(x):\n",
        "    return x ** 2\n",
        "numbers = [1, 2, 3, 4, 5]\n",
        "squared_numbers = map(square_number, numbers)\n",
        "result_list = list(squared_numbers)\n",
        "print(\"Squared numbers:\", result_list)\n",
        "\n",
        "\n"
      ],
      "metadata": {
        "colab": {
          "base_uri": "https://localhost:8080/"
        },
        "id": "gWvD6JziiiTD",
        "outputId": "86682695-1d04-47f2-aadc-3e14adc62663"
      },
      "execution_count": null,
      "outputs": [
        {
          "output_type": "stream",
          "name": "stdout",
          "text": [
            "Squared numbers: [1, 4, 9, 16, 25]\n"
          ]
        }
      ]
    },
    {
      "cell_type": "code",
      "source": [
        "#3.How does the `map()` function differ from a list comprehension in Python, and when would you choose one over the other?\n",
        "\n",
        "\n",
        "numbers = [1,2,3,4,5]\n",
        "squared_numbers = map(lambda x: x**2,numbers)\n",
        "result_map = list(squared_numbers)\n",
        "result_comprehesion = [x**2 for x in numbers]\n",
        "print(result_map)\n",
        "print(result_comprehesion)\n"
      ],
      "metadata": {
        "colab": {
          "base_uri": "https://localhost:8080/"
        },
        "id": "sE8wtrKGjlPz",
        "outputId": "a8efcac3-4b54-4cdf-ded5-85a964802741"
      },
      "execution_count": null,
      "outputs": [
        {
          "output_type": "stream",
          "name": "stdout",
          "text": [
            "[1, 4, 9, 16, 25]\n",
            "[1, 4, 9, 16, 25]\n"
          ]
        }
      ]
    },
    {
      "cell_type": "code",
      "source": [
        "#4Create a Python program that uses the `map()` function to convert a list of names to uppercase.\n",
        "\n",
        "\n",
        "names = [\"praju\",\"omkar\",\"yash\",\"teju\"]\n",
        "uppercase_names = map(str.upper, names)\n",
        "result_list=list(uppercase_names)\n",
        "print(\"uppercase_names :\", result_list)\n",
        "\n"
      ],
      "metadata": {
        "colab": {
          "base_uri": "https://localhost:8080/"
        },
        "id": "Ho7fjADXkfVx",
        "outputId": "36a71ec8-576d-4d4e-b12f-13d6b4cac7da"
      },
      "execution_count": null,
      "outputs": [
        {
          "output_type": "stream",
          "name": "stdout",
          "text": [
            "uppercase_names : ['PRAJU', 'OMKAR', 'YASH', 'TEJU']\n"
          ]
        }
      ]
    },
    {
      "cell_type": "code",
      "source": [
        "#5.Write a Python program that uses the `map()` function to calculate the length of each word in a list of strings\n",
        "\n",
        "\n",
        "string = [\"prajkta\",\"omkar\",\"Gaikwad\",\"map\"]\n",
        "word_length =map(len,string)\n",
        "result_list = list(word_length)\n",
        "print(\"word_length :\",result_list)"
      ],
      "metadata": {
        "colab": {
          "base_uri": "https://localhost:8080/"
        },
        "id": "SlK9RKezlm3i",
        "outputId": "c64b7592-037e-4bd6-d52c-11986cfe329f"
      },
      "execution_count": null,
      "outputs": [
        {
          "output_type": "stream",
          "name": "stdout",
          "text": [
            "word_length : [7, 5, 7, 3]\n"
          ]
        }
      ]
    },
    {
      "cell_type": "code",
      "source": [
        "#6.How can you use the `map()` function to apply a custom function to elements of multiple lists simultaneously in Python?\n",
        "\n",
        "def add_element(x,y):\n",
        "  return x+y\n",
        "list1 = [1,2,3,4,10]\n",
        "list2=[5,6,7,8,9]\n",
        "result = map(add_element,list1,list2)\n",
        "result_list = list(result)\n",
        "print(\"Result: \",result_list)\n",
        "\n"
      ],
      "metadata": {
        "colab": {
          "base_uri": "https://localhost:8080/"
        },
        "id": "bUjFIs-BmUIJ",
        "outputId": "d412072b-c466-4844-d2f6-db978406f360"
      },
      "execution_count": null,
      "outputs": [
        {
          "output_type": "stream",
          "name": "stdout",
          "text": [
            "Result:  [6, 8, 10, 12, 19]\n"
          ]
        }
      ]
    },
    {
      "cell_type": "code",
      "source": [
        "#7.Create a Python program that uses `map()` to convert a list of temperatures from Celsius to Fahrenheit\n",
        "\n",
        "def celsius_to_fahrenheit(celsius):\n",
        "    return (9/5) * celsius + 32\n",
        "celsius_temperatures = [0, 10, 20, 30, 40]\n",
        "fahrenheit_temperatures = map(celsius_to_fahrenheit, celsius_temperatures)\n",
        "fahrenheit_list = list(fahrenheit_temperatures)\n",
        "print(\"Celsius Temperatures:\", celsius_temperatures)\n",
        "print(\"Fahrenheit Temperatures:\", fahrenheit_list)\n",
        "\n",
        "\n"
      ],
      "metadata": {
        "colab": {
          "base_uri": "https://localhost:8080/"
        },
        "id": "mxsl8WyYqzaG",
        "outputId": "fda4efdc-7d66-491c-d965-77478fe02fcb"
      },
      "execution_count": null,
      "outputs": [
        {
          "output_type": "stream",
          "name": "stdout",
          "text": [
            "Celsius Temperatures: [0, 10, 20, 30, 40]\n",
            "Fahrenheit Temperatures: [32.0, 50.0, 68.0, 86.0, 104.0]\n"
          ]
        }
      ]
    },
    {
      "cell_type": "code",
      "source": [
        "#8.Write a Python program that uses the `map()` function to round each element of a list of floating-point numbers to the nearest integer\n",
        "\n",
        "float_numbers = [3.14,2.718,1.5,4.9,7.25]\n",
        "rounded_integers = map(round,float_numbers)\n",
        "result_list = list(rounded_integers)\n",
        "print(\"Rounded Integers:\", result_list)"
      ],
      "metadata": {
        "colab": {
          "base_uri": "https://localhost:8080/"
        },
        "id": "UGZW27t0se0G",
        "outputId": "42352ced-5555-4305-f4a0-694558334a8e"
      },
      "execution_count": null,
      "outputs": [
        {
          "output_type": "stream",
          "name": "stdout",
          "text": [
            "Rounded Integers: [3, 3, 2, 5, 7]\n"
          ]
        }
      ]
    },
    {
      "cell_type": "code",
      "source": [
        "# REDUCE"
      ],
      "metadata": {
        "id": "HBqwHXrDtnPb"
      },
      "execution_count": null,
      "outputs": []
    },
    {
      "cell_type": "code",
      "source": [
        "#1.What is the `reduce()` function in Python, and what module should you import to use it? Provide an example of its basic usage\n",
        "\n",
        "# The reduce() function in python is a part of the functools module. It is used to successively apply a binary function to the items of an iterable,reducing the iterable to asinglr accumulted result.\n",
        "# Syntax of the reduce() This module is used to reduce(): functools.reduce(function,iterable[,initializer])\n",
        "\n",
        "\n",
        "from functools import reduce\n",
        "numbers = [2,3,4,5]\n",
        "def multiply(x,y):\n",
        "  return x*y\n",
        "result = reduce(multiply,numbers)\n",
        "print(\"Product of numbers:\",result)\n"
      ],
      "metadata": {
        "colab": {
          "base_uri": "https://localhost:8080/"
        },
        "id": "DeO1_ZH9tsYn",
        "outputId": "23e5cef2-4607-4d84-df0f-5257370f8088"
      },
      "execution_count": null,
      "outputs": [
        {
          "output_type": "stream",
          "name": "stdout",
          "text": [
            "Product of numbers: 120\n"
          ]
        }
      ]
    },
    {
      "cell_type": "code",
      "source": [
        "#2.Write a Python program that uses the `reduce()` function to find the product of all elements in a list\n",
        "\n",
        "\n",
        "from functools import reduce\n",
        "numbers = [2, 3, 4, 5]\n",
        "product = reduce(lambda x, y: x * y, numbers)\n",
        "print(\"Product of numbers:\", product)\n"
      ],
      "metadata": {
        "colab": {
          "base_uri": "https://localhost:8080/"
        },
        "id": "Nb5EkrhfvUJn",
        "outputId": "54a96dee-1d4a-4a11-9c7f-8067690e4cf3"
      },
      "execution_count": null,
      "outputs": [
        {
          "output_type": "stream",
          "name": "stdout",
          "text": [
            "Product of numbers: 120\n"
          ]
        }
      ]
    },
    {
      "cell_type": "code",
      "source": [
        "#3.Create a Python program that uses `reduce()` to find the maximum element in a list of numbers\n",
        "\n",
        "from functools import reduce\n",
        "numbers = [12, 45, 23, 67, 89, 34, 56]\n",
        "max_number = reduce(lambda x, y: x if x > y else y, numbers)\n",
        "print(\"Maximum element:\", max_number)\n"
      ],
      "metadata": {
        "colab": {
          "base_uri": "https://localhost:8080/"
        },
        "id": "AIB1CmkPxqXT",
        "outputId": "b32acf34-19b9-466c-c53f-00c57ddb789e"
      },
      "execution_count": null,
      "outputs": [
        {
          "output_type": "stream",
          "name": "stdout",
          "text": [
            "Maximum element: 89\n"
          ]
        }
      ]
    },
    {
      "cell_type": "code",
      "source": [
        "#4.How can you use the `reduce()` function to concatenate a list of strings into a single string?\n",
        "\n",
        "from functools import reduce\n",
        "import operator\n",
        "strings = [\"Prajkta\",\"Omkar\",\"!\"]\n",
        "concatenated_string = reduce(operator.concat ,strings)\n",
        "print(\"Concatenated string:\",concatenated_string)\n",
        "\n",
        "\n"
      ],
      "metadata": {
        "colab": {
          "base_uri": "https://localhost:8080/"
        },
        "id": "_UCz65vax0ue",
        "outputId": "519e5445-8663-4a34-bcb9-15c729a29ce1"
      },
      "execution_count": null,
      "outputs": [
        {
          "output_type": "stream",
          "name": "stdout",
          "text": [
            "Concatenated string: PrajktaOmkar!\n"
          ]
        }
      ]
    },
    {
      "cell_type": "code",
      "source": [
        "#5.Write a Python program that calculates the factorial of a number using the `reduce()` function\n",
        "\n",
        "\n",
        "from functools import reduce\n",
        "import operator\n",
        "def factorial(n):\n",
        "    return reduce(operator.mul, range(1, n+1), 1)\n",
        "user_input = input(\"Enter a number to calculate its factorial: \")\n",
        "\n",
        "try:\n",
        "    num = int(user_input)\n",
        "    if num < 0:\n",
        "        print(\"Factorial is undefined for negative numbers.\")\n",
        "    else:\n",
        "        result = factorial(num)\n",
        "        print(f\"The factorial of {num} is:\", result)\n",
        "\n",
        "except ValueError:\n",
        "    print(\"Invalid input.  enter a valid integer.\")\n",
        "\n",
        "\n",
        "\n"
      ],
      "metadata": {
        "colab": {
          "base_uri": "https://localhost:8080/"
        },
        "id": "nrH3GAvDK-hz",
        "outputId": "36e4487c-fde3-43e7-be0b-7bee01fbc319"
      },
      "execution_count": null,
      "outputs": [
        {
          "output_type": "stream",
          "name": "stdout",
          "text": [
            "Enter a number to calculate its factorial: 5\n",
            "The factorial of 5 is: 120\n"
          ]
        }
      ]
    },
    {
      "cell_type": "code",
      "source": [
        "#6.Create a Python program that uses `reduce()` to find the GCD (Greatest Common Divisor) of a list of numbers\n",
        "\n",
        "from functools import reduce\n",
        "from math import gcd\n",
        "numbers = [25,67,45,67]\n",
        "gcd_result = reduce(gcd,numbers)\n",
        "print(\"GCD of numbers:\", gcd_result )\n",
        "\n"
      ],
      "metadata": {
        "colab": {
          "base_uri": "https://localhost:8080/"
        },
        "id": "SmrAIw_vMb9-",
        "outputId": "73e2316b-de89-4abf-eb88-cc61296e8de9"
      },
      "execution_count": null,
      "outputs": [
        {
          "output_type": "stream",
          "name": "stdout",
          "text": [
            "GCD of numbers: 1\n"
          ]
        }
      ]
    },
    {
      "cell_type": "code",
      "source": [
        "#7.Write a Python program that uses the `reduce()` function to find the sum of the digits of a given number\n",
        "\n",
        "\n",
        "from functools import reduce\n",
        "def sum_of_digits(number):\n",
        "    return reduce(lambda x, y: int(x) + int(y), str(number), 0)\n",
        "user_input = input(\"Enter a number: \")\n",
        "\n",
        "try:\n",
        "    num = int(user_input)\n",
        "    result = sum_of_digits(num)\n",
        "    print(f\"The sum of digits in {num} is:\", result)\n",
        "\n",
        "except ValueError:\n",
        "    print(\"Invalid input. Please enter a valid integer.\")\n",
        "\n"
      ],
      "metadata": {
        "colab": {
          "base_uri": "https://localhost:8080/"
        },
        "id": "2oSQl1OaN0Dm",
        "outputId": "4be3b656-d54e-42c5-ca5e-eb884f2fe06e"
      },
      "execution_count": null,
      "outputs": [
        {
          "output_type": "stream",
          "name": "stdout",
          "text": [
            "Enter a number: 5\n",
            "The sum of digits in 5 is: 5\n"
          ]
        }
      ]
    },
    {
      "cell_type": "code",
      "source": [
        "# FILTER"
      ],
      "metadata": {
        "id": "D1asM_hKPjyd"
      },
      "execution_count": null,
      "outputs": []
    },
    {
      "cell_type": "code",
      "source": [
        "#1.Explain the purpose of the `filter()` function in Python and provide an example of how it can be used to filter elements from an iterable\n",
        "\n",
        "numbers = [1,2,3,4,5,6,7,8,9]\n",
        "def is_even(num):\n",
        "  return num % 2 == 0\n",
        "\n",
        "even_numbers = filter(is_even , numbers)\n",
        "result_list = list(even_numbers)\n",
        "print(result_list)\n",
        "\n"
      ],
      "metadata": {
        "colab": {
          "base_uri": "https://localhost:8080/"
        },
        "id": "-P6eFw3HP54Z",
        "outputId": "543c3543-3dd7-4daf-cb55-f0229494d431"
      },
      "execution_count": null,
      "outputs": [
        {
          "output_type": "stream",
          "name": "stdout",
          "text": [
            "[2, 4, 6, 8]\n"
          ]
        }
      ]
    },
    {
      "cell_type": "code",
      "source": [
        "#2.Write a Python program that uses the `filter()` function to select even numbers from a list of integers\n",
        "\n",
        "numbers = [1,2,3,4,5,6,7]\n",
        "def is_even(num):\n",
        "  return num % 2 == 0\n",
        "even_numbers =filter(is_even , numbers)\n",
        "result_list = list(even_numbers)\n",
        "print(\"Even numbers: \",result_list)\n",
        "\n"
      ],
      "metadata": {
        "colab": {
          "base_uri": "https://localhost:8080/"
        },
        "id": "BAk18SAxQx7l",
        "outputId": "fb329027-0f10-4fb1-9395-4329e587f081"
      },
      "execution_count": null,
      "outputs": [
        {
          "output_type": "stream",
          "name": "stdout",
          "text": [
            "Even numbers:  [2, 4, 6]\n"
          ]
        }
      ]
    },
    {
      "cell_type": "code",
      "source": [
        "#3.Create a Python program that uses the `filter()` function to select names that start with a specific letter from a list of strings\n",
        "\n",
        "names = [\"Rajendra\", \"Sarita\", \"Yash\", \"Teju\", \"Prajkta\", \"Omkar\"]\n",
        "def starts_with_letter(name, letter):\n",
        "    return name.startswith(letter)\n",
        "selected_letter = \"A\"\n",
        "selected_names = filter(lambda x: starts_with_letter(x, selected_letter), names)\n",
        "result_list = list(selected_names)\n",
        "print(f\"Original names: {names}\")\n",
        "print(f\"Names starting with '{selected_letter}': {result_list}\")\n",
        "\n"
      ],
      "metadata": {
        "colab": {
          "base_uri": "https://localhost:8080/"
        },
        "id": "48xQ2cucRfNb",
        "outputId": "83b0f060-befa-4b50-ef91-c1544e89b548"
      },
      "execution_count": null,
      "outputs": [
        {
          "output_type": "stream",
          "name": "stdout",
          "text": [
            "Original names: ['Rajendra', 'Sarita', 'Yash', 'Teju', 'Prajkta', 'Omkar']\n",
            "Names starting with 'A': []\n"
          ]
        }
      ]
    },
    {
      "cell_type": "code",
      "source": [
        "#4.Write a Python program that uses the `filter()` function to select prime numbers from a list of integers\n",
        "\n",
        "\n",
        "numbers = [1, 2, 3, 4, 5, 6, 7, 8, 9, 10, 11, 12, 13, 14, 15]\n",
        "def is_prime(num):\n",
        "    if num < 2:\n",
        "        return False\n",
        "    for i in range(2, int(num**0.5) + 1):\n",
        "        if num % i == 0:\n",
        "            return False\n",
        "    return True\n",
        "prime_numbers = filter(is_prime, numbers)\n",
        "result_list = list(prime_numbers)\n",
        "print(\"Original numbers:\", numbers)\n",
        "print(\"Prime numbers:\", result_list)\n",
        "\n",
        "\n"
      ],
      "metadata": {
        "colab": {
          "base_uri": "https://localhost:8080/"
        },
        "id": "PucR1g7CSBo7",
        "outputId": "47026de3-70a2-4f86-9256-e0dd6ccae1cd"
      },
      "execution_count": null,
      "outputs": [
        {
          "output_type": "stream",
          "name": "stdout",
          "text": [
            "Original numbers: [1, 2, 3, 4, 5, 6, 7, 8, 9, 10, 11, 12, 13, 14, 15]\n",
            "Prime numbers: [2, 3, 5, 7, 11, 13]\n"
          ]
        }
      ]
    },
    {
      "cell_type": "code",
      "source": [
        "#5.How can you use the `filter()` function to remove None values from a list in Python?\n",
        "\n",
        "values = [1, None, 3, 4, None, 6, None, 8]\n",
        "filtered_values = filter(lambda x: x is not None, values)\n",
        "result_list = list(filtered_values)\n",
        "print(\"Original values:\", values)\n",
        "print(\"Values without None:\", result_list)\n",
        "\n"
      ],
      "metadata": {
        "colab": {
          "base_uri": "https://localhost:8080/"
        },
        "id": "YBTFFzjRTDnB",
        "outputId": "b716d183-d97f-49b3-b6b5-331c3dfef34b"
      },
      "execution_count": null,
      "outputs": [
        {
          "output_type": "stream",
          "name": "stdout",
          "text": [
            "Original values: [1, None, 3, 4, None, 6, None, 8]\n",
            "Values without None: [1, 3, 4, 6, 8]\n"
          ]
        }
      ]
    },
    {
      "cell_type": "code",
      "source": [
        "#6.Create a Python program that uses `filter()` to select words longer than a certain length from a list of strings\n",
        "\n",
        "\n",
        "words = [\"apple\", \"banana\", \"kiwi\", \"grape\", \"orange\", \"strawberry\"]\n",
        "def is_long(word, length):\n",
        "    return len(word) > length\n",
        "selected_length = 5\n",
        "selected_words = filter(lambda x: is_long(x, selected_length), words)\n",
        "result_list = list(selected_words)\n",
        "print(f\"Original words: {words}\")\n",
        "print(f\"Words longer than {selected_length} characters: {result_list}\")\n",
        "\n",
        "\n"
      ],
      "metadata": {
        "colab": {
          "base_uri": "https://localhost:8080/"
        },
        "id": "ATKM032gTTLv",
        "outputId": "1cadd035-373f-40f7-8276-b234c3574e74"
      },
      "execution_count": null,
      "outputs": [
        {
          "output_type": "stream",
          "name": "stdout",
          "text": [
            "Original words: ['apple', 'banana', 'kiwi', 'grape', 'orange', 'strawberry']\n",
            "Words longer than 5 characters: ['banana', 'orange', 'strawberry']\n"
          ]
        }
      ]
    },
    {
      "cell_type": "code",
      "source": [
        "#7.Write a Python program that uses the `filter()` function to select elements greater than a specified threshold from a list of values\n",
        "\n",
        "\n",
        "values = [10, 5, 25, 15, 30, 8, 18]\n",
        "def greater_than_threshold(value, threshold):\n",
        "    return value > threshold\n",
        "selected_threshold = 15\n",
        "selected_values = filter(lambda x: greater_than_threshold(x, selected_threshold), values)\n",
        "result_list = list(selected_values)\n",
        "print(f\"Original values: {values}\")\n",
        "print(f\"Values greater than {selected_threshold}: {result_list}\")\n",
        "\n"
      ],
      "metadata": {
        "colab": {
          "base_uri": "https://localhost:8080/"
        },
        "id": "6Dwel2KFTfT_",
        "outputId": "d27f2d4e-8556-45b0-8fe1-b6c992f9b607"
      },
      "execution_count": null,
      "outputs": [
        {
          "output_type": "stream",
          "name": "stdout",
          "text": [
            "Original values: [10, 5, 25, 15, 30, 8, 18]\n",
            "Values greater than 15: [25, 30, 18]\n"
          ]
        }
      ]
    },
    {
      "cell_type": "code",
      "source": [
        "# RECURSION"
      ],
      "metadata": {
        "id": "W91upXhTT316"
      },
      "execution_count": null,
      "outputs": []
    },
    {
      "cell_type": "code",
      "source": [
        "#1.Explain the concept of recursion in Python. How does it differ from iteration?\n",
        "\n",
        "def factorial(n):\n",
        "    if n == 0 or n == 1:\n",
        "        return 1\n",
        "    else:\n",
        "        return n * factorial(n - 1)\n",
        "        numbers = [1, 2, 3, 4, 5]\n",
        "for num in numbers:\n",
        "    print(num)\n",
        "\n",
        "\n"
      ],
      "metadata": {
        "colab": {
          "base_uri": "https://localhost:8080/"
        },
        "id": "ER3qrWxPT7we",
        "outputId": "fec1424d-5fe1-4b21-d554-79f0b31a8214"
      },
      "execution_count": null,
      "outputs": [
        {
          "output_type": "stream",
          "name": "stdout",
          "text": [
            "1\n",
            "2\n",
            "3\n",
            "4\n",
            "5\n",
            "6\n",
            "7\n",
            "8\n",
            "9\n",
            "10\n",
            "11\n",
            "12\n",
            "13\n",
            "14\n",
            "15\n"
          ]
        }
      ]
    },
    {
      "cell_type": "code",
      "source": [
        "#2.Write a Python program to calculate the factorial of a number using recursion.\n",
        "\n",
        "\n",
        "def factorial(n):\n",
        "    if n == 0 or n == 1:\n",
        "        return 1\n",
        "    else:\n",
        "        return n * factorial(n - 1)\n",
        "num = int(input(\"Enter a number: \"))\n",
        "if num < 0:\n",
        "    print(\"Factorial is not defined for negative numbers.\")\n",
        "else:\n",
        "    result = factorial(num)\n",
        "    print(f\"The factorial of {num} is: {result}\")\n",
        "\n"
      ],
      "metadata": {
        "id": "QTYoUZADUD5e",
        "colab": {
          "base_uri": "https://localhost:8080/"
        },
        "outputId": "fa928849-7a76-42df-c415-f89f4b4aba69"
      },
      "execution_count": null,
      "outputs": [
        {
          "output_type": "stream",
          "name": "stdout",
          "text": [
            "Enter a number: 5\n",
            "The factorial of 5 is: 120\n"
          ]
        }
      ]
    },
    {
      "cell_type": "code",
      "source": [
        "#3.Create a recursive Python function to find the nth Fibonacci number\n",
        "\n",
        "def fibonacci(n):\n",
        "    if n == 0:\n",
        "        return 0\n",
        "    elif n == 1:\n",
        "        return 1\n",
        "    else:\n",
        "        return fibonacci(n - 1) + fibonacci(n - 2)\n",
        "num = int(input(\"Enter the value of n for the nth Fibonacci number: \"))\n",
        "if num < 0:\n",
        "    print(\"Fibonacci sequence is not defined for negative numbers.\")\n",
        "else:\n",
        "    result = fibonacci(num)\n",
        "    print(f\"The {num}th Fibonacci number is: {result}\")\n",
        "\n"
      ],
      "metadata": {
        "colab": {
          "base_uri": "https://localhost:8080/"
        },
        "id": "nFr9Lfhz9Vah",
        "outputId": "052a06a4-3da5-4cee-b1d0-93e3b91d9182"
      },
      "execution_count": null,
      "outputs": [
        {
          "output_type": "stream",
          "name": "stdout",
          "text": [
            "Enter the value of n for the nth Fibonacci number: 10\n",
            "The 10th Fibonacci number is: 55\n"
          ]
        }
      ]
    },
    {
      "cell_type": "code",
      "source": [
        "#4.Write a recursive Python function to calculate the sum of all elements in a list\n",
        "\n",
        "\n",
        "def recursive_sum(list):\n",
        "  if not list:\n",
        "    return 0\n",
        "  else:\n",
        "    return list[0] + recursive_sum(list[1:])\n",
        "\n",
        "my_list = [1,2,3,4,5]\n",
        "result = recursive_sum(my_list)\n",
        "print(f\"Sum of elements in the list{my_list} is : {result}\")\n"
      ],
      "metadata": {
        "colab": {
          "base_uri": "https://localhost:8080/"
        },
        "id": "soF4UMf29p_q",
        "outputId": "8cd6463f-21a0-461c-810b-5a61a487860b"
      },
      "execution_count": null,
      "outputs": [
        {
          "output_type": "stream",
          "name": "stdout",
          "text": [
            "Sum of elements in the list[1, 2, 3, 4, 5] is : 15\n"
          ]
        }
      ]
    },
    {
      "cell_type": "code",
      "source": [
        "#5.How can you prevent a recursive function from running indefinitely, causing a stack overflow error?\n",
        "\n",
        "def factorial(n):\n",
        "  if n < 0:\n",
        "    raise ValueError(\"Factorial is not defined for negative numbers\")\n",
        "  elif n == 0 or n == 1:\n",
        "    return 1\n",
        "  else:\n",
        "    return n*factorial(n-1)\n",
        "\n",
        "result = factorial(5)\n",
        "print(\"Factorial: \",result)\n",
        "\n",
        "\n"
      ],
      "metadata": {
        "colab": {
          "base_uri": "https://localhost:8080/"
        },
        "id": "CuYWBFyk-YkH",
        "outputId": "86c6ee8b-0538-4500-e967-e548ce02716e"
      },
      "execution_count": null,
      "outputs": [
        {
          "output_type": "stream",
          "name": "stdout",
          "text": [
            "Factorial:  120\n"
          ]
        }
      ]
    },
    {
      "cell_type": "code",
      "source": [
        "#6.Create a recursive Python function to find the greatest common divisor (GCD) of two numbers using the Euclidean algorithm\n",
        "\n",
        "def gcd(a,b):\n",
        "  if b == 0:\n",
        "    return a\n",
        "  else:\n",
        "    return gcd(b,a%b)\n",
        "num1 = int(input(\"Enter the first number: \"))\n",
        "num2 = int(input(\"Enter the second number: \"))\n",
        "\n",
        "result = gcd(num1,num2)\n",
        "print(f\"The GCD of {num1} and {num2} is:{result}\")\n"
      ],
      "metadata": {
        "colab": {
          "base_uri": "https://localhost:8080/"
        },
        "id": "8LhfL7AiiH2M",
        "outputId": "70fc4ccd-22d6-4f9d-b2be-b080157b593f"
      },
      "execution_count": null,
      "outputs": [
        {
          "output_type": "stream",
          "name": "stdout",
          "text": [
            "Enter the first number: 5\n",
            "Enter the second number: 9\n",
            "The GCD of 5 and 9 is:1\n"
          ]
        }
      ]
    },
    {
      "cell_type": "code",
      "source": [
        "#7.Write a recursive Python function to reverse a string\n",
        "\n",
        "\n",
        "def reverse_string(input_str):\n",
        "  if len(input_str) <=1:\n",
        "    return input_str\n",
        "  else:\n",
        "    return reverse_string(input_str[1:])+ input_str[0]\n",
        "\n",
        "original_str = input(\"Enter a string: \")\n",
        "reversed_str = reverse_string(original_str)\n",
        "\n",
        "print(f\"The reversed string is: {reversed_str}\")"
      ],
      "metadata": {
        "colab": {
          "base_uri": "https://localhost:8080/"
        },
        "id": "gzDJqz5VixpP",
        "outputId": "4a8686c2-f9ed-433d-c4ff-cceea2c5febf"
      },
      "execution_count": null,
      "outputs": [
        {
          "output_type": "stream",
          "name": "stdout",
          "text": [
            "Enter a string: prajkta\n",
            "The reversed string is: atkjarp\n"
          ]
        }
      ]
    },
    {
      "cell_type": "code",
      "source": [
        "#8.Create a recursive Python function to calculate the power of a number (x^n)\n",
        "\n",
        "def power(x,n):\n",
        "  if n == 0:\n",
        "    return 1\n",
        "  else:\n",
        "    return x* power(x,n-1)\n",
        "\n",
        "base = float(input(\"Enter the base (x): \"))\n",
        "exponent = int(input(\"Enter the exponent (n): \"))\n",
        "\n",
        "result = power(base,exponent)\n",
        "print(f\"{base} raised to the power {exponent} is: {result}\")\n"
      ],
      "metadata": {
        "colab": {
          "base_uri": "https://localhost:8080/"
        },
        "id": "bQm5ji0RkhSM",
        "outputId": "4db1dbf2-cf7e-40e4-cd53-6b92a9dbd56b"
      },
      "execution_count": null,
      "outputs": [
        {
          "output_type": "stream",
          "name": "stdout",
          "text": [
            "Enter the base (x): 2\n",
            "Enter the exponent (n): 3\n",
            "2.0 raised to the power 3 is: 8.0\n"
          ]
        }
      ]
    },
    {
      "cell_type": "code",
      "source": [
        "#9.Write a recursive Python function to find all permutations of a given string\n",
        "\n",
        "def permutations(string):\n",
        "    if len(string) == 1:\n",
        "        return [string]\n",
        "\n",
        "    result = []\n",
        "    for i in range(len(string)):\n",
        "        current_char = string[i]\n",
        "        remaining_chars = string[:i] + string[i+1:]\n",
        "        sub_permutations = permutations(remaining_chars)\n",
        "\n",
        "        for perm in sub_permutations:\n",
        "            result.append(current_char + perm)\n",
        "\n",
        "    return result\n",
        "input_str = input(\"Enter a string: \")\n",
        "result = permutations(input_str)\n",
        "\n",
        "print(f\"All permutations of {input_str} are:\")\n",
        "for perm in result:\n",
        "    print(perm)\n",
        "\n",
        "\n"
      ],
      "metadata": {
        "colab": {
          "base_uri": "https://localhost:8080/"
        },
        "id": "0VBMsdu1mLtX",
        "outputId": "cb3c8acd-f9dd-47fc-fcd2-10d455c372ba"
      },
      "execution_count": null,
      "outputs": [
        {
          "output_type": "stream",
          "name": "stdout",
          "text": [
            "Enter a string: omkar\n",
            "All permutations of omkar are:\n",
            "omkar\n",
            "omkra\n",
            "omakr\n",
            "omark\n",
            "omrka\n",
            "omrak\n",
            "okmar\n",
            "okmra\n",
            "okamr\n",
            "okarm\n",
            "okrma\n",
            "okram\n",
            "oamkr\n",
            "oamrk\n",
            "oakmr\n",
            "oakrm\n",
            "oarmk\n",
            "oarkm\n",
            "ormka\n",
            "ormak\n",
            "orkma\n",
            "orkam\n",
            "oramk\n",
            "orakm\n",
            "mokar\n",
            "mokra\n",
            "moakr\n",
            "moark\n",
            "morka\n",
            "morak\n",
            "mkoar\n",
            "mkora\n",
            "mkaor\n",
            "mkaro\n",
            "mkroa\n",
            "mkrao\n",
            "maokr\n",
            "maork\n",
            "makor\n",
            "makro\n",
            "marok\n",
            "marko\n",
            "mroka\n",
            "mroak\n",
            "mrkoa\n",
            "mrkao\n",
            "mraok\n",
            "mrako\n",
            "komar\n",
            "komra\n",
            "koamr\n",
            "koarm\n",
            "korma\n",
            "koram\n",
            "kmoar\n",
            "kmora\n",
            "kmaor\n",
            "kmaro\n",
            "kmroa\n",
            "kmrao\n",
            "kaomr\n",
            "kaorm\n",
            "kamor\n",
            "kamro\n",
            "karom\n",
            "karmo\n",
            "kroma\n",
            "kroam\n",
            "krmoa\n",
            "krmao\n",
            "kraom\n",
            "kramo\n",
            "aomkr\n",
            "aomrk\n",
            "aokmr\n",
            "aokrm\n",
            "aormk\n",
            "aorkm\n",
            "amokr\n",
            "amork\n",
            "amkor\n",
            "amkro\n",
            "amrok\n",
            "amrko\n",
            "akomr\n",
            "akorm\n",
            "akmor\n",
            "akmro\n",
            "akrom\n",
            "akrmo\n",
            "aromk\n",
            "arokm\n",
            "armok\n",
            "armko\n",
            "arkom\n",
            "arkmo\n",
            "romka\n",
            "romak\n",
            "rokma\n",
            "rokam\n",
            "roamk\n",
            "roakm\n",
            "rmoka\n",
            "rmoak\n",
            "rmkoa\n",
            "rmkao\n",
            "rmaok\n",
            "rmako\n",
            "rkoma\n",
            "rkoam\n",
            "rkmoa\n",
            "rkmao\n",
            "rkaom\n",
            "rkamo\n",
            "raomk\n",
            "raokm\n",
            "ramok\n",
            "ramko\n",
            "rakom\n",
            "rakmo\n"
          ]
        }
      ]
    },
    {
      "cell_type": "code",
      "source": [
        "#10.Write a recursive Python function to check if a string is a palindrome\n",
        "\n",
        "def is_palindrome(s):\n",
        "  if len(s) <= 1:\n",
        "    return True\n",
        "  else:\n",
        "    return s[0] == s[-1] and is_palindrome(s[1:-1])\n",
        "\n",
        "input_str = input(\"Enter the string: \")\n",
        "result = is_palindrome(input_str)\n",
        "\n",
        "if result:\n",
        "  print(f\"{input_str} is a palindrome\")\n",
        "else:\n",
        "  print(f\"{input_str} is not a palindrome\")\n",
        "\n",
        "\n",
        "\n"
      ],
      "metadata": {
        "colab": {
          "base_uri": "https://localhost:8080/"
        },
        "id": "aUGaMq4hm2Ro",
        "outputId": "3acdc4b1-63f7-4d50-a6b6-ca55b62954ba"
      },
      "execution_count": null,
      "outputs": [
        {
          "output_type": "stream",
          "name": "stdout",
          "text": [
            "Enter the string: Rajendra\n",
            "Rajendra is not a palindrome\n"
          ]
        }
      ]
    },
    {
      "cell_type": "code",
      "source": [
        "#11.Create a recursive Python function to generate all possible combinations of a list of elements\n",
        "\n",
        "def generate_combinations(elements, k, current_combination=[]):\n",
        "    result = []\n",
        "\n",
        "    if k == 0:\n",
        "\n",
        "        result.append(current_combination)\n",
        "    elif not elements:\n",
        "        result.append([])\n",
        "        result += generate_combinations(elements[1:], k - 1, current_combination + [elements[0]])\n",
        "        result += generate_combinations(elements[1:], k, current_combination)\n",
        "\n",
        "    return result\n",
        "my_list = [1, 2, 3]\n",
        "combination_size = int(input(\"Enter the combination size (k): \"))\n",
        "\n",
        "result = generate_combinations(my_list, combination_size)\n",
        "\n",
        "print(f\"All combinations of size {combination_size} are:\")\n",
        "\n"
      ],
      "metadata": {
        "colab": {
          "base_uri": "https://localhost:8080/"
        },
        "id": "sAwjJG0Enumw",
        "outputId": "b5158f59-2923-4471-9e6f-fdba3337e6f5"
      },
      "execution_count": null,
      "outputs": [
        {
          "output_type": "stream",
          "name": "stdout",
          "text": [
            "Enter the combination size (k): 9\n",
            "All combinations of size 9 are:\n"
          ]
        }
      ]
    },
    {
      "cell_type": "code",
      "source": [
        "# BASIC OF FUNCTIONS"
      ],
      "metadata": {
        "id": "b6O5LCy4oC2B"
      },
      "execution_count": null,
      "outputs": []
    },
    {
      "cell_type": "code",
      "source": [
        "#1.What is a function in Python, and why is it used?\n",
        "\n",
        " #In python,a function is a named block of code that performance a specific task or a\n",
        " #set of tasks. Funcctions are definde using the 'def' keyword,followed by the function\n",
        " #name,a set of parentheses containing optical parameters, and a colon\n",
        "\n",
        "\n",
        "\n",
        "\n",
        "# *Functions in Python are used for several reasons:\n",
        "\n",
        "#1.Modularity: Functions allow you to break down a complex program into smaller, manageable pieces. Each function can handle a specific part of the overall functionality, making the code more modular and easier to understand.\n",
        "\n",
        "#2.Reusability: Once a function is defined, it can be reused multiple times throughout your program. This promotes code reuse and helps avoid duplicating code.\n",
        "\n",
        "#3.Abstraction: Functions provide a level of abstraction, allowing you to use a function without needing to know the internal details of its implementation. This makes the code more readable and easier to maintain.\n",
        "\n",
        "#4.Readability: Functions improve code readability by giving meaningful names to specific operations or tasks. This makes the code more self-explanatory and easier for others (or yourself) to understand.\n",
        "\n",
        "#5.Parameterization: Functions can accept parameters, allowing them to be more flexible and handle different inputs. Parameters enable customization of the function's behavior without the need to rewrite the entire function.\n",
        "\n",
        "#6.Return Values: Functions can return values, allowing them to produce a result that can be used in the rest of the program. This enables functions to encapsulate computations and provide output to the caller"
      ],
      "metadata": {
        "id": "DwEyDpQPohiL"
      },
      "execution_count": null,
      "outputs": []
    },
    {
      "cell_type": "code",
      "source": [
        "#2.How do you define a function in Python? Provide an example\n",
        "\n",
        "# You can define a function using the def keyword followed by the function name,\n",
        "# a pair of parentheses containing optional parameters, and a colon.\n",
        "# The function body is indented to indicate the block of code that belongs to the function.\n",
        "\n",
        "\n",
        "def greet(name):\n",
        "    \"\"\"This function prints a greeting message.\"\"\"\n",
        "    print(f\"Hello, {name}!\")\n",
        "greet(\"Sarita\")\n"
      ],
      "metadata": {
        "colab": {
          "base_uri": "https://localhost:8080/"
        },
        "id": "YfmnMiT0p8fu",
        "outputId": "f834aa91-7f6c-4798-94e4-974f9662b834"
      },
      "execution_count": null,
      "outputs": [
        {
          "output_type": "stream",
          "name": "stdout",
          "text": [
            "Hello, Sarita!\n"
          ]
        }
      ]
    },
    {
      "cell_type": "code",
      "source": [
        "#3.Explain the difference between a function definition and a function call.\n",
        "\n",
        "# 1 .Function Definition:\n",
        "\n",
        "# Purpose: A function definition is where you specify what a function does, its name, its parameters, and the code it will execute when called.\n",
        "# Syntax: It starts with the def keyword, followed by the function name, a pair of parentheses containing parameters (if any), a colon, and an indented block of code#\n",
        " # Ex.\n",
        "def greet(name):\n",
        "    \"\"\"This function prints a greeting message.\"\"\"\n",
        "    print(f\"Hello, {name}!\")\n",
        "\n",
        "# 2. Function Call:\n",
        "\n",
        "# Purpose: A function call is when you actually use the function you've defined. It is the point in the code where the function is executed, and its specified task is performed.\n",
        "# Syntax: It involves writing the function name followed by a pair of parentheses containing the arguments (if any) that the function requires\n",
        " # Ex.\n",
        "greet(\"praju\")\n"
      ],
      "metadata": {
        "colab": {
          "base_uri": "https://localhost:8080/"
        },
        "id": "odjzh3nBs97A",
        "outputId": "cf1d17d6-af9c-4dea-8b0e-0aa2d283b34a"
      },
      "execution_count": null,
      "outputs": [
        {
          "output_type": "stream",
          "name": "stdout",
          "text": [
            "Hello, praju!\n"
          ]
        }
      ]
    },
    {
      "cell_type": "code",
      "source": [
        "#4.Write a Python program that defines a function to calculate the sum of two numbers and then calls the function\n",
        "def calculate_sum(a, b):\n",
        "    \"\"\"This function calculates the sum of two numbers.\"\"\"\n",
        "    result = a + b\n",
        "    return result\n",
        "num1 = float(input(\"Enter the first number: \"))\n",
        "num2 = float(input(\"Enter the second number: \"))\n",
        "sum_result = calculate_sum(num1, num2)\n",
        "print(f\"The sum of {num1} and {num2} is: {sum_result}\")\n",
        "\n",
        "\n"
      ],
      "metadata": {
        "colab": {
          "base_uri": "https://localhost:8080/"
        },
        "id": "U-Z4od08trME",
        "outputId": "abaf4e03-e43b-44d6-8408-e119e2265490"
      },
      "execution_count": null,
      "outputs": [
        {
          "output_type": "stream",
          "name": "stdout",
          "text": [
            "Enter the first number: 5\n",
            "Enter the second number: 10\n",
            "The sum of 5.0 and 10.0 is: 15.0\n"
          ]
        }
      ]
    },
    {
      "cell_type": "code",
      "source": [
        "#5.What is a function signature, and what information does it typically include?\n",
        "\n",
        "\n",
        "#A signature is like an identification mark,\n",
        "#it is unique to every person in this world.\n",
        "#It serves as a crucial authorizing agent for important documents due to its unique properties.\n",
        "# Graphologists say that a signature can reveal a lot about a person.\n",
        "#And just like that, a function signature in Python reveals a lot about the properties about that particular function\n",
        "\n",
        "#There is an inbuilt function that is used to determine the signature of a function.\n",
        "#It assists in predetermining whether a function accepts a specific type of argument.\n",
        "\n",
        "\n",
        "def calculate_sum(a: float, b: float) -> float:\n",
        "    \"\"\"This function calculates the sum of two numbers.\"\"\"\n",
        "    result = a + b\n",
        "    return result\n",
        "\n"
      ],
      "metadata": {
        "id": "-EHU_29LuakG"
      },
      "execution_count": null,
      "outputs": []
    },
    {
      "cell_type": "code",
      "source": [
        "#6.Create a Python function that takes two arguments and returns their product\n",
        "\n",
        "def calculation_product(a,b):\n",
        "  result = a*b\n",
        "  return result\n",
        "\n",
        "num1 = float(input(\"Enter first number: \"))\n",
        "num2 = float(input(\"ENter second number: \"))\n",
        "\n",
        "product_result = calculation_product(num1,num2)\n",
        "print(f\"The product of {num1} and {num2} is: {product_result}\")\n",
        "\n"
      ],
      "metadata": {
        "colab": {
          "base_uri": "https://localhost:8080/"
        },
        "id": "9D6RM1QkvXYe",
        "outputId": "61479ba8-f7a6-4166-a7d4-6e4fdd0165b6"
      },
      "execution_count": null,
      "outputs": [
        {
          "output_type": "stream",
          "name": "stdout",
          "text": [
            "Enter first number: 5\n",
            "ENter second number: 9\n",
            "The product of 5.0 and 9.0 is: 45.0\n"
          ]
        }
      ]
    },
    {
      "cell_type": "code",
      "source": [
        "# BASIC OF FUNCTION"
      ],
      "metadata": {
        "id": "yyY8TQivwZru"
      },
      "execution_count": null,
      "outputs": []
    },
    {
      "cell_type": "code",
      "source": [
        "#1.What is a function in Python, and why is it used?\n",
        "\n",
        "\n",
        "#In Python, a function is a block of reusable code designed to perform a specific task.\n",
        "# Functions provide modularity and organization to your code by allowing you to break it into smaller, manageable pieces.\n",
        "# Each function in Python has a name, which you use to call it, and it can take input parameters (arguments) and return a result.\n",
        "\n",
        "#Functions are used in programming for several important reasons:\n",
        "\n",
        "#Modularity: Functions allow you to break down a large and complex program into smaller, more manageable pieces. Each function can focus on a specific task or responsibility. This modular approach makes code easier to understand, maintain, and debug.\n",
        "\n",
        "#Reusability: Once a function is defined, it can be reused in different parts of a program or even in other programs. This promotes code reuse, reduces redundancy, and saves development time.\n",
        "\n",
        "#Abstraction: Functions provide a level of abstraction by hiding the implementation details of a specific task. Users of the function only need to know what the function does and how to use it, without needing to understand the internal workings.\n",
        "\n",
        "#Readability: Breaking down a program into smaller functions makes the code more readable and comprehensible. Functions with clear names and well-defined purposes make it easier for other developers (or even yourself) to understand and work with the code.\n",
        "\n",
        "#Encapsulation: Functions encapsulate a specific task or functionality, providing a clear interface for other parts of the program to interact with. This helps in organizing and structuring the code, and it also reduces the likelihood of unintended interactions between different parts of the program.\n",
        "\n",
        "#Parameterization: Functions can accept parameters (input values) that allow them to work with different data each time they are called. This parameterization adds flexibility to the code and allows functions to be used in a variety of scenarios.\n",
        "\n",
        "#Testing and Debugging: Functions make it easier to test and debug code. Since functions focus on specific tasks, it becomes easier to isolate and identify issues within a smaller scope. This simplifies the debugging process and enhances the maintainability of the code.\n",
        "\n",
        "#Code Maintenance: When changes or updates are required, having a modular structure with well-defined functions makes it easier to locate and modify specific parts of the code. This reduces the risk of introducing errors while making changes\n"
      ],
      "metadata": {
        "id": "qnic2G2hwgec"
      },
      "execution_count": null,
      "outputs": []
    },
    {
      "cell_type": "code",
      "source": [
        "#2.How do you define a function in Python? Provide an example.\n",
        "\n",
        "\n",
        "#In Python, you can define a function using the def keyword,\n",
        "#followed by the function name, a pair of parentheses for optional parameters,\n",
        "#and a colon to indicate the beginning of the function body.\n",
        "# The function body is indented and contains the code that performs the desired task.\n",
        "#If the function returns a value, you can use the return keyword to specify the result.\n",
        "\n",
        "\n",
        "#Example.,\n",
        "\n",
        "def add_numbers(a, b):\n",
        "\n",
        "    result = a + b\n",
        "    return result\n",
        "sum_result = add_numbers(3, 5)\n",
        "print(sum_result)\n",
        "\n"
      ],
      "metadata": {
        "colab": {
          "base_uri": "https://localhost:8080/"
        },
        "id": "mzrQPSwMficY",
        "outputId": "9b31e425-c776-41e5-84a9-b671a41d6070"
      },
      "execution_count": null,
      "outputs": [
        {
          "output_type": "stream",
          "name": "stdout",
          "text": [
            "8\n"
          ]
        }
      ]
    },
    {
      "cell_type": "code",
      "source": [
        "#3.Explain the difference between a function definition and a function call\n",
        "\n",
        "#1.Function Definition:\n",
        "\n",
        "# What it is: The function definition is the part of the code where you create or define a function. It specifies the name of the function, the parameters it takes (if any), and the code that gets executed when the function is called.\n",
        "# Syntax: It starts with the def keyword, followed by the function name, parameters (if any), a colon (:), and the function body indented below.#\n",
        "\n",
        "#Ex.,\n",
        "\n",
        "def add_numbers(a, b):\n",
        "    result = a + b\n",
        "    return result\n",
        "\n",
        "#2.Function Call:\n",
        "\n",
        "#What it is: A function call is the point in your code where you invoke or execute a function that has been defined elsewhere. It is where you provide actual values (arguments) for the parameters defined in the function, and the code within the function gets executed.\n",
        "#Syntax: It involves using the function name followed by parentheses containing the values you want to pass as arguments (if any).\n",
        "\n",
        "\n",
        "#Ex.,\n",
        "result = add_numbers(3, 5)\n"
      ],
      "metadata": {
        "id": "ynw4MNILf9f5"
      },
      "execution_count": null,
      "outputs": []
    },
    {
      "cell_type": "code",
      "source": [
        "#4.Write a Python program that defines a function to calculate the sum of two numbers and then calls the function\n",
        "\n",
        "def calculate_sum(x,y):\n",
        "  result = x + y\n",
        "  return result\n",
        "\n",
        "num1 = 5\n",
        "num2 = 8\n",
        "sum_result = calculate_sum(num1 , num2)\n",
        "\n",
        "print(f\"The sum of{num1} and {num2} is:{sum_result}\")\n",
        "\n",
        "\n"
      ],
      "metadata": {
        "id": "FUQ1n0-fgbiG",
        "colab": {
          "base_uri": "https://localhost:8080/"
        },
        "outputId": "bb2b4f69-d2a8-4fd1-f765-7876ffe7e79d"
      },
      "execution_count": null,
      "outputs": [
        {
          "output_type": "stream",
          "name": "stdout",
          "text": [
            "The sum of5 and 8 is:13\n"
          ]
        }
      ]
    },
    {
      "cell_type": "code",
      "source": [
        "#5.What is a function signature, and what information does it typically include?\n",
        "\n",
        "A function signature is a declaration that provides essential information about\n",
        "a function in a programming language.\n",
        "It is typically includes:\n",
        "1.Function Name: The name that identifies the function within the code.\n",
        "2.Return Name: The data type of the value that the function returns. If the\n",
        "               function doesn't return any value, it is often specified as \"void\".\n",
        "3.Parameters/Arguments: The input values that the function accepts.Each paaameter includes its data\n",
        "                        type and a name. If a function takes no parmeters, this section may be empty or include the\n",
        "                        keyword \"void\" or equivalent.\n",
        "4.Parameter List: The list of parameter the function accepts,including their data types anf names.\n",
        "\n",
        "\n",
        "\n"
      ],
      "metadata": {
        "id": "oB9iCRRbmF6a"
      },
      "execution_count": null,
      "outputs": []
    },
    {
      "cell_type": "code",
      "source": [
        "#6.Create a Python function that takes two arguments and returns their product.\n",
        "\n",
        "def multiply(a,b):\n",
        "  \"\"\"\n",
        "  Multiply two numbers.\n",
        "\n",
        "  Parameters:\n",
        "  -a(int or float): The first number.\n",
        "  -b(int or float): The second number.\n",
        "\n",
        "  Returns:\n",
        "  int or float: The product of a and b.\n",
        "  \"\"\"\n",
        "  return a * b\n",
        "\n",
        "result = multiply(5,7)\n",
        "print(result)\n",
        "\n"
      ],
      "metadata": {
        "colab": {
          "base_uri": "https://localhost:8080/"
        },
        "id": "4lMBYWreyStB",
        "outputId": "58291f15-2d38-4d78-afc8-af53859d42f2"
      },
      "execution_count": 1,
      "outputs": [
        {
          "output_type": "stream",
          "name": "stdout",
          "text": [
            "35\n"
          ]
        }
      ]
    },
    {
      "cell_type": "code",
      "source": [
        "# FUNCTION PARAMETERS AND ARGUMENT"
      ],
      "metadata": {
        "id": "H3gSZkYSzxsY"
      },
      "execution_count": 2,
      "outputs": []
    },
    {
      "cell_type": "code",
      "source": [
        "from ast import FunctionDef\n",
        "#1.Explain the concepts of formal parameters and actual arguments in Python functions\n",
        "\n",
        "   # In python functions, formal parameters and actual arguments refer to the variable and values used in the\n",
        "#function definition and function call,respectively.\n",
        "\n",
        "#1.Formal Parameters:\n",
        " #Formal parameters are the variables listed in the Function defination\n",
        " #They act as placeholders for the values that will be provides when the function is called.\n",
        " #These parameters are deeclared in the function signature and serve as local variables within the function.\n",
        " #They are used to receive input values from the calling code.\n",
        " # Ex.,\n",
        "def add_numbers(x,y):\n",
        "    result=x+y\n",
        "    return result\n",
        "\n",
        "\n",
        "# 2.Actual arguments:\n",
        "# Actual arguments are the values that are passed to the function when it is called.\n",
        "# They provide concrete values for the formal parameters in the function definition.\n",
        "# The actual arguments are specified during the function call and can be variables, literals, or expressions.\n",
        "# They are the values that the formal parameters will take on when the function is executed.\n",
        "\n",
        "#ex.,\n",
        "result = add_numbers(3,5)"
      ],
      "metadata": {
        "id": "-GrW_fk2z8Ai"
      },
      "execution_count": 6,
      "outputs": []
    },
    {
      "cell_type": "code",
      "source": [
        "#2.Write a Python program that defines a function with default argument values\n",
        "\n",
        "def greet(name, greeting=\"Hello\"):\n",
        "    \"\"\"\n",
        "    Print a greeting message with the provided or default values.\n",
        "\n",
        "    Parameters:\n",
        "    - name (str): The name of the person.\n",
        "    - greeting (str): The greeting message. Default is \"Hello\".\n",
        "    \"\"\"\n",
        "    print(f\"{greeting}, {name}!\")\n",
        "greet(\"Prajkta\")\n",
        "greet(\"Omkar\", \"Hi\")\n",
        "\n",
        "\n",
        "\n",
        "\n"
      ],
      "metadata": {
        "colab": {
          "base_uri": "https://localhost:8080/"
        },
        "id": "i5NIEeGP2LpP",
        "outputId": "9764c311-7b43-4d38-9161-952fdbc714c0"
      },
      "execution_count": 7,
      "outputs": [
        {
          "output_type": "stream",
          "name": "stdout",
          "text": [
            "Hello, Prajkta!\n",
            "Hi, Omkar!\n"
          ]
        }
      ]
    },
    {
      "cell_type": "code",
      "source": [
        "#3.How do you use keyword arguments in Python function calls? Provide an example\n",
        "\n",
        "\n",
        "\n",
        "#In Python, you can use keyword arguments in function calls to explicitly specify\n",
        "#which parameter each argument corresponds to, regardless of the order in which\n",
        "#the parameters are defined in the function signature.\n",
        "# This can make your code more readable and self-explanatory.\n",
        "#Here's an example:\n",
        "def display_info(name, age, city):\n",
        "    \"\"\"\n",
        "    Display information about a person.\n",
        "\n",
        "    Parameters:\n",
        "    - name (str): The person's name.\n",
        "    - age (int): The person's age.\n",
        "    - city (str): The person's city of residence.\n",
        "    \"\"\"\n",
        "    print(f\"{name} is {age} years old and lives in {city}.\")\n",
        "display_info(name=\"Prajkta\", age=21, city=\"Aitawade Bk\")\n",
        "display_info(city=\"Kurlap\", age=22, name=\"Omkar\")\n"
      ],
      "metadata": {
        "colab": {
          "base_uri": "https://localhost:8080/"
        },
        "id": "HX4sfSeg2vhu",
        "outputId": "e16be353-d867-4286-9e54-2d5a0109ebe1"
      },
      "execution_count": 11,
      "outputs": [
        {
          "output_type": "stream",
          "name": "stdout",
          "text": [
            "Prajkta is 21 years old and lives in Aitawade Bk.\n",
            "Omkar is 22 years old and lives in Kurlap.\n"
          ]
        }
      ]
    },
    {
      "cell_type": "code",
      "source": [
        "#4.Create a Python function that accepts a variable number of arguments and calculates their sum\n",
        "\n",
        "\n",
        "def calculate_sum(*args):\n",
        "    \"\"\"\n",
        "    Calculate the sum of a variable number of arguments.\n",
        "\n",
        "    Parameters:\n",
        "    - *args (float or int): Variable number of arguments.\n",
        "\n",
        "    Returns:\n",
        "    float or int: The sum of the arguments.\n",
        "    \"\"\"\n",
        "    total = sum(args)\n",
        "    return total\n",
        "result = calculate_sum(1, 2, 3, 4, 5)\n",
        "print(result)\n",
        "\n",
        "result = calculate_sum(10.5, 3, 7.2, 1)\n",
        "print(result)\n",
        "\n"
      ],
      "metadata": {
        "colab": {
          "base_uri": "https://localhost:8080/"
        },
        "id": "L8PUMWCI3Nuj",
        "outputId": "321d55c4-983b-4b83-af3e-2cef7a0f51c0"
      },
      "execution_count": 13,
      "outputs": [
        {
          "output_type": "stream",
          "name": "stdout",
          "text": [
            "15\n",
            "21.7\n"
          ]
        }
      ]
    },
    {
      "cell_type": "code",
      "source": [
        "#5.What is the purpose of the `*args` and `**kwargs` syntax in function parameter lists?\n",
        "\n",
        "#The *args and **kwargs syntax in function parameter lists in Python provide a way to handle a variable number of arguments in a function. These are often referred to as \"variable-length argument lists.\"\n",
        "\n",
        "#1.*args (Arbitrary Positional Arguments):\n",
        "\n",
        "#The *args syntax allows a function to accept any number of positional arguments.\n",
        "#The args is a tuple that collects all the positional arguments passed to the function.\n",
        "#This is useful when you want a function to be able to handle an arbitrary number of arguments without explicitly specifying them in the function signature.\n",
        "\n",
        "\n",
        "#Ex.,\n",
        "\n",
        "def print_values(*args):\n",
        "    for value in args:\n",
        "        print(value)\n",
        "\n",
        "print_values(1, 2, 3, 4)\n",
        "\n",
        "\n",
        "#2.**kwargs (Arbitrary Keyword Arguments):\n",
        "\n",
        "#The **kwargs syntax allows a function to accept any number of keyword arguments.\n",
        "#The kwargs is a dictionary that collects all the keyword arguments passed to the function.\n",
        "#This is useful when you want to provide flexibility in the function by allowing users to pass additional named parameters\n",
        "\n",
        "#Ex.,\n",
        "def print_info(**kwargs):\n",
        "    for key, value in kwargs.items():\n",
        "        print(f\"{key}: {value}\")\n",
        "\n",
        "print_info(name=\"Yash\", age=17, city=\"Aitawade Budruk\")\n",
        "\n",
        "\n",
        "#Combining *args and **kwargs allows a function to accept both positional and keyword arguments flexibly.\n",
        "#This flexibility makes it easier to design functions that can handle a wide range of use cases\n",
        "#without having to define a fixed number of parameters in the function signature.\n",
        "#It's important to note that the names args and kwargs are conventions, and you can\n",
        "#use any valid variable names after the * and ** symbols, respectively.\n"
      ],
      "metadata": {
        "colab": {
          "base_uri": "https://localhost:8080/"
        },
        "id": "I5Gqom-i3xjM",
        "outputId": "20b68a69-7f61-4b30-9267-74d69632fe8f"
      },
      "execution_count": 16,
      "outputs": [
        {
          "output_type": "stream",
          "name": "stdout",
          "text": [
            "1\n",
            "2\n",
            "3\n",
            "4\n",
            "name: Yash\n",
            "age: 17\n",
            "city: Aitawade Budruk\n"
          ]
        }
      ]
    },
    {
      "cell_type": "code",
      "source": [
        "#  RETEURN VALUES AND SCOPING"
      ],
      "metadata": {
        "id": "NX7AyNMX4xjl"
      },
      "execution_count": 17,
      "outputs": []
    },
    {
      "cell_type": "code",
      "source": [
        "#1.Describe the role of the `return` statement in Python functions and provide examples.\n",
        "\n",
        "\n",
        "#The return statement in Python is used to exit a function and return a value to the caller.\n",
        "# It marks the end of the function's execution and provides a way to send a result back to\n",
        "#the code that called the function. The return statement can also be used without a value to\n",
        "#simply exit the function without returning anything.\n",
        "\n",
        "#Here are some key points about the return statement:\n",
        "#1.Returning a Value:\n",
        "\n",
        "#You can use return to send a specific value back to the caller.\n",
        "#The returned value can be of any data type, including numbers, strings, lists, or even more complex objects.\n",
        "\n",
        "#Ex.,\n",
        "def add_numbers(x, y):\n",
        "    result = x + y\n",
        "    return result\n",
        "\n",
        "sum_result = add_numbers(3, 5)\n",
        "print(sum_result)\n",
        "\n",
        "#2.Exiting Early:\n",
        "\n",
        "#return can be used without a value to exit the function early, before reaching the end of the function.\n",
        "#This is useful in situations where you want to terminate the function under certain conditions.\n",
        "#Ex.,\n",
        "def greet(name):\n",
        "    if not name:\n",
        "        return \"Name not provided\"\n",
        "    return f\"Hello, {name}!\"\n",
        "\n",
        "message = greet(\"Tejaswini\")\n",
        "print(message)\n",
        "message = greet(\"\")\n",
        "print(message)\n",
        "\n",
        "\n",
        "\n",
        "#3.Multiple Return Values:\n",
        "\n",
        "#You can use return to return multiple values as a tuple or other data structure.\n",
        "#This allows a function to return more than one result.\n",
        "#Example:\n",
        "def get_quotient_and_remainder(dividend, divisor):\n",
        "    quotient = dividend // divisor\n",
        "    remainder = dividend % divisor\n",
        "    return quotient, remainder\n",
        "\n",
        "result = get_quotient_and_remainder(10, 3)\n",
        "print(result)\n",
        "\n",
        "\n",
        "#4.No Return (or return None):\n",
        "\n",
        "#If a function doesn't have a return statement, it implicitly returns None.\n",
        "#This is useful for functions that perform actions without producing a specific result.\n",
        "\n",
        "def greet_user(name):\n",
        "    print(f\"Hello, {name}!\")\n",
        "\n",
        "result = greet_user(\"Bob\")\n",
        "print(result)\n",
        "\n",
        "\n",
        "\n"
      ],
      "metadata": {
        "colab": {
          "base_uri": "https://localhost:8080/"
        },
        "id": "zwN5-5sq4_7X",
        "outputId": "f56e08df-e705-4537-cf43-130ff5af402f"
      },
      "execution_count": 21,
      "outputs": [
        {
          "output_type": "stream",
          "name": "stdout",
          "text": [
            "8\n",
            "Hello, Tejaswini!\n",
            "Name not provided\n",
            "(3, 1)\n",
            "Hello, Bob!\n",
            "None\n"
          ]
        }
      ]
    },
    {
      "cell_type": "code",
      "source": [
        "#2.Explain the concept of variable scope in Python, including local and global variables.\n",
        "\n",
        "#Enclosing (Nonlocal) Variable Scope:\n",
        "\n",
        "#In nested functions, a variable declared in an outer function can be accessed using the nonlocal keyword.\n",
        "#This allows modification of a variable from an enclosing (but non-global) scope.\n",
        "\n",
        "#Example:\n",
        "def outer_function():\n",
        "    outer_variable = 78\n",
        "    def inner_function():\n",
        "        nonlocal outer_variable\n",
        "        outer_variable = 78\n",
        "        print(outer_variable)\n",
        "\n",
        "    inner_function()\n",
        "    print(outer_variable)\n",
        "\n",
        "outer_function()\n",
        "\n"
      ],
      "metadata": {
        "colab": {
          "base_uri": "https://localhost:8080/"
        },
        "id": "Rb5xWmgO5fQS",
        "outputId": "5c030059-be0d-4b83-9ef9-917ea82b51e3"
      },
      "execution_count": 27,
      "outputs": [
        {
          "output_type": "stream",
          "name": "stdout",
          "text": [
            "78\n",
            "78\n"
          ]
        }
      ]
    },
    {
      "cell_type": "code",
      "source": [
        "#3.Write a Python program that demonstrates the use of global variables within functions\n",
        "\n",
        "global_variable = 10\n",
        "\n",
        "def modify_global():\n",
        "    global global_variable\n",
        "    global_variable += 5\n",
        "    print(\"Inside the function:\", global_variable)\n",
        "\n",
        "def display_global():\n",
        "    print(\"Inside another function:\", global_variable)\n",
        "print(\"Before function calls:\", global_variable)\n",
        "modify_global()\n",
        "print(\"After function call:\", global_variable)\n",
        "display_global()\n",
        "\n",
        "#This demonstrates how global variables can be accessed and modified within functions using the global keyword.\n",
        "# Keep in mind that while using global variables can be convenient,\n",
        "#it's generally recommended to use them sparingly to avoid potential issues with code maintainability and unexpected side effects."
      ],
      "metadata": {
        "colab": {
          "base_uri": "https://localhost:8080/"
        },
        "id": "ywjPgFts7dBk",
        "outputId": "62e6d779-94f3-4eec-dfab-0c0dc1e193b9"
      },
      "execution_count": 28,
      "outputs": [
        {
          "output_type": "stream",
          "name": "stdout",
          "text": [
            "Before function calls: 10\n",
            "Inside the function: 15\n",
            "After function call: 15\n",
            "Inside another function: 15\n"
          ]
        }
      ]
    },
    {
      "cell_type": "code",
      "source": [
        "#4.Create a Python function that calculates the factorial of a number and returns it\n",
        "\n",
        "\n",
        "def factorial(n):\n",
        "    \"\"\"\n",
        "    Calculate the factorial of a non-negative integer.\n",
        "\n",
        "    Parameters:\n",
        "    - n (int): Non-negative integer.\n",
        "\n",
        "    Returns:\n",
        "    int: Factorial of n.\n",
        "    \"\"\"\n",
        "    if n < 0:\n",
        "        raise ValueError(\"Factorial is undefined for negative numbers.\")\n",
        "    elif n == 0 or n == 1:\n",
        "        return 1\n",
        "    else:\n",
        "        result = 1\n",
        "        for i in range(2, n + 1):\n",
        "            result *= i\n",
        "        return result\n",
        "number = 5\n",
        "result = factorial(number)\n",
        "print(f\"The factorial of {number} is: {result}\")\n"
      ],
      "metadata": {
        "colab": {
          "base_uri": "https://localhost:8080/"
        },
        "id": "tbherq1f8ECV",
        "outputId": "5a2fd2a7-b1f5-47de-8f2d-9fbb8964a838"
      },
      "execution_count": 29,
      "outputs": [
        {
          "output_type": "stream",
          "name": "stdout",
          "text": [
            "The factorial of 5 is: 120\n"
          ]
        }
      ]
    },
    {
      "cell_type": "code",
      "source": [
        "#5.How can you access variables defined outside a function from within the function?\n",
        "\n",
        "global_variable = 42\n",
        "\n",
        "def access_global():\n",
        "    print(\"Global variable:\", global_variable)\n",
        "\n",
        "access_global()\n",
        "\n",
        "def outer_function():\n",
        "    outer_variable = 10\n",
        "\n",
        "    def inner_function():\n",
        "        print(\"Inner function accessing outer variable:\", outer_variable)\n",
        "\n",
        "    inner_function()\n",
        "\n",
        "outer_function()\n",
        "global_variable = 42\n",
        "\n",
        "def modify_global():\n",
        "    global global_variable\n",
        "    global_variable += 5\n",
        "    print(\"Modified global variable:\", global_variable)\n",
        "\n",
        "modify_global()\n",
        "\n"
      ],
      "metadata": {
        "colab": {
          "base_uri": "https://localhost:8080/"
        },
        "id": "QbvGTRke8qWG",
        "outputId": "bb551942-7264-49c1-f4eb-b69662ecabcd"
      },
      "execution_count": 32,
      "outputs": [
        {
          "output_type": "stream",
          "name": "stdout",
          "text": [
            "Global variable: 42\n",
            "Inner function accessing outer variable: 10\n",
            "Modified global variable: 47\n"
          ]
        }
      ]
    },
    {
      "cell_type": "code",
      "source": [
        "#LABDA FUNCTIONS AND HIGHES-ORDER FUNCTIONS"
      ],
      "metadata": {
        "id": "zMz0dS76859x"
      },
      "execution_count": null,
      "outputs": []
    },
    {
      "cell_type": "code",
      "source": [
        "#1.What are lambda functions in Python, and when are they typically used?\n",
        "\n",
        "#In Python, a lambda function is a small, anonymous function defined using the lambda keyword.\n",
        "#Lambda functions are also known as anonymous functions or lambda expressions.\n",
        "#They are often used for short, simple operations where a full function definition using the def keyword may be unnecessary or cumbersome.\n",
        "\n",
        "#Syntax:\n",
        "\n",
        "#lambda arguments: expression\n",
        "\n",
        "#lambda: The keyword used to define a lambda function.\n",
        "#arguments: The input parameters of the function.\n",
        "#expression: The operation to be performed based on the input parameters.\n",
        "#Here's a simple example of a lambda function:\n",
        "\n",
        "add = lambda x, y: x + y\n",
        "print(add(2, 3))\n",
        "\n",
        "\n",
        "#1.Simple Operations:\n",
        "\n",
        "#Lambda functions are useful for short, simple operations that can be expressed in a single line.\n",
        "#They are concise and can make the code more readable when the function's logic is straightforward.\n",
        "#Example:\n",
        "square = lambda x: x ** 2\n",
        "print(square(4))\n",
        "\n",
        "#Functional Programming:\n",
        "\n",
        "#Lambda functions are often used in functional programming constructs like map(), filter(), and reduce().\n",
        "#They allow you to pass a concise function definition directly as an argument to these higher-order functions.\n",
        "#Example using map():\n",
        "\n",
        "numbers = [1, 2, 3, 4, 5]\n",
        "squared_numbers = list(map(lambda x: x ** 2, numbers))\n",
        "print(squared_numbers)\n",
        "\n",
        "#Anonymous Callbacks:\n",
        "\n",
        "#Lambda functions are useful for defining anonymous callbacks in event-driven programming or asynchronous operations.\n",
        "\n",
        "people = [(\"Sarita\", 44), (\"Rajendra\", 47), (\"Prajkta\", 22)]\n",
        "sorted_people = sorted(people, key=lambda person: person[1])\n",
        "print(sorted_people)\n",
        "\n",
        "\n",
        "\n"
      ],
      "metadata": {
        "colab": {
          "base_uri": "https://localhost:8080/"
        },
        "id": "u0bHx1vN9IR8",
        "outputId": "cb76f2ec-66cc-4316-b9df-07f772e225f1"
      },
      "execution_count": 34,
      "outputs": [
        {
          "output_type": "stream",
          "name": "stdout",
          "text": [
            "5\n",
            "16\n",
            "[1, 4, 9, 16, 25]\n",
            "[('Prajkta', 22), ('Sarita', 44), ('Rajendra', 47)]\n"
          ]
        }
      ]
    },
    {
      "cell_type": "code",
      "source": [
        "#2.Write a Python program that uses lambda functions to sort a list of tuples based on the second element.\n",
        "\n",
        "\n",
        "people = [(\"Prajkta\", 22), (\"Omkar\", 22), (\"Yash\", 17), (\"Sarita\", 44)]\n",
        "sorted_people = sorted(people, key=lambda person: person[1])\n",
        "print(\"Sorted People based on age:\")\n",
        "for person in sorted_people:\n",
        "    print(person)\n",
        "\n"
      ],
      "metadata": {
        "colab": {
          "base_uri": "https://localhost:8080/"
        },
        "id": "Ne2GsA4xATcS",
        "outputId": "79e9d603-ba24-44b3-f813-6e8987ac19da"
      },
      "execution_count": 35,
      "outputs": [
        {
          "output_type": "stream",
          "name": "stdout",
          "text": [
            "Sorted People based on age:\n",
            "('Yash', 17)\n",
            "('Prajkta', 22)\n",
            "('Omkar', 22)\n",
            "('Sarita', 44)\n"
          ]
        }
      ]
    },
    {
      "cell_type": "code",
      "source": [
        "#3.Explain the concept of higher-order functions in Python, and provide an example\n",
        "\n",
        "#In Python, a higher-order function is a function that takes one or more functions as arguments or\n",
        "#returns a function as its result. This concept is closely associated with functional programming\n",
        "#and allows for the composition of functions, enabling more expressive and modular code.\n",
        "\n",
        "\n",
        "\n",
        "\n",
        "#1.Taking afunction as an argument:\n",
        "#A function is considered a higher-order function if it can accept other functions as arguments.\n",
        "#This allows for the passing of behavior as an argument, promoting flexibility and code reusability.\n",
        "#2.Returning a Function as a Result:\n",
        "#A function is also considered a higher-order function if it can return another function.\n",
        "#This is often used in scenarios where the returned function is customized based on certain conditions or parameters.\n",
        "\n",
        "\n",
        "#Here's an example that demonstrates both aspects of higher-order functions:\n",
        "\n",
        "\n",
        "# Higher-order function: Takes a function as an argument\n",
        "def apply_operation(x, y, operation):\n",
        "    return operation(x, y)\n",
        "def add(x, y):\n",
        "    return x + y\n",
        "\n",
        "def multiply(x, y):\n",
        "    return x * y\n",
        "\n",
        "def power(x, y):\n",
        "    return x ** y\n",
        "result_add = apply_operation(3, 5, add)\n",
        "print(\"Addition result:\", result_add)\n",
        "\n",
        "result_multiply = apply_operation(3, 5, multiply)\n",
        "print(\"Multiplication result:\", result_multiply)\n",
        "\n",
        "result_power = apply_operation(2, 3, power)\n",
        "print(\"Power result:\", result_power)\n",
        "\n"
      ],
      "metadata": {
        "colab": {
          "base_uri": "https://localhost:8080/"
        },
        "id": "0067tktKBaoX",
        "outputId": "b1b49fad-06dc-46b6-cfcd-683ab6d84acd"
      },
      "execution_count": 36,
      "outputs": [
        {
          "output_type": "stream",
          "name": "stdout",
          "text": [
            "Addition result: 8\n",
            "Multiplication result: 15\n",
            "Power result: 8\n"
          ]
        }
      ]
    },
    {
      "cell_type": "code",
      "source": [
        "#4.Create a Python function that takes a list of numbers and a function as arguments, applying the function to each element in the list\n",
        "\n",
        "def apply_function_to_list(numbers, operation):\n",
        "    \"\"\"\n",
        "    Apply a given function to each element in the list.\n",
        "\n",
        "    Parameters:\n",
        "    - numbers (list): List of numbers.\n",
        "    - operation (function): Function to be applied to each element.\n",
        "\n",
        "    Returns:\n",
        "    list: List containing the results of applying the function to each element.\n",
        "    \"\"\"\n",
        "    result = [operation(x) for x in numbers]\n",
        "    return result\n",
        "numbers = [1, 2, 3, 4, 5]\n",
        "def square(x):\n",
        "    return x ** 2\n",
        "\n",
        "result_squared = apply_function_to_list(numbers, square)\n",
        "\n",
        "print(\"Squared Numbers:\", result_squared)\n",
        "\n"
      ],
      "metadata": {
        "colab": {
          "base_uri": "https://localhost:8080/"
        },
        "id": "ay_pJI-oCUKg",
        "outputId": "55872504-e129-488e-fd4e-ac101a64668f"
      },
      "execution_count": 38,
      "outputs": [
        {
          "output_type": "stream",
          "name": "stdout",
          "text": [
            "Squared Numbers: [1, 4, 9, 16, 25]\n"
          ]
        }
      ]
    },
    {
      "cell_type": "code",
      "source": [
        "# BUILT-IN-FUNCTIONS"
      ],
      "metadata": {
        "id": "C1_Z9fT9DgNE"
      },
      "execution_count": 39,
      "outputs": []
    },
    {
      "cell_type": "code",
      "source": [
        "#1.Describe the role of built-in functions like `len()`, `max()`, and `min()` in Python\n",
        "\n",
        "\n",
        "#Built-in functions in Python are pre-defined functions that come with the language and are available for use\n",
        "#without the need for explicit import. Functions like len(), max(), and min() are commonly used for specific\n",
        "#operations on data structures or collections.\n",
        "\n",
        "\n",
        "#Here's a brief description of their roles:\n",
        "\n",
        "#1.len(iterable) - Length Function:\n",
        "\n",
        "#The len() function is used to get the length (the number of elements) of an iterable object.\n",
        "#It works with various data structures, including strings, lists, tuples, dictionaries, and sets.\n",
        "#Example:\n",
        "\n",
        "string_length = len(\"Hello, World!\")\n",
        "print(\"Length of string:\", string_length)\n",
        "\n",
        "\n",
        "#2.max(iterable[, key=func, default=obj]) - Maximum Function:\n",
        "\n",
        "#The max() function returns the largest item in an iterable or the largest of two or more arguments.\n",
        "#t can also take an optional key parameter, which is a function that is used to extract a comparison key from each element.\n",
        "#Example:\n",
        "\n",
        "numbers = [2, 8, 1, 6, 5]\n",
        "max_number = max(numbers)\n",
        "print(\"Maximum number:\", max_number)\n",
        "\n",
        "#3.min(iterable[, key=func, default=obj]) - Minimum Function:\n",
        "\n",
        "#The min() function returns the smallest item in an iterable or the smallest of two or more arguments.\n",
        "#It can also take an optional key parameter, similar to max().\n",
        "#Example:\n",
        "\n",
        "numbers = [2, 8, 1, 6, 5]\n",
        "min_number = min(numbers)\n",
        "print(\"Minimum number:\", min_number)\n",
        "\n",
        "\n",
        "\n",
        "\n"
      ],
      "metadata": {
        "colab": {
          "base_uri": "https://localhost:8080/"
        },
        "id": "jl2EmbU-D0a5",
        "outputId": "91788f0d-0564-4ad0-c325-c4f586485b19"
      },
      "execution_count": 41,
      "outputs": [
        {
          "output_type": "stream",
          "name": "stdout",
          "text": [
            "Length of string: 13\n",
            "Maximum number: 8\n",
            "Minimum number: 1\n"
          ]
        }
      ]
    },
    {
      "cell_type": "code",
      "source": [
        "#2.Write a Python program that uses the `map()` function to apply a function to each element of a list\n",
        "\n",
        "\n",
        "def square(x):\n",
        "    return x ** 2\n",
        "numbers = [1, 2, 3, 4, 5]\n",
        "squared_numbers = map(square, numbers)\n",
        "squared_numbers_list = list(squared_numbers)\n",
        "print(\"Squared Numbers:\", squared_numbers_list)\n",
        "\n",
        "\n",
        "\n"
      ],
      "metadata": {
        "colab": {
          "base_uri": "https://localhost:8080/"
        },
        "id": "eB36zzNcD2n9",
        "outputId": "1974388d-505d-44a9-bc17-9232eae57bd8"
      },
      "execution_count": 43,
      "outputs": [
        {
          "output_type": "stream",
          "name": "stdout",
          "text": [
            "Squared Numbers: [1, 4, 9, 16, 25]\n"
          ]
        }
      ]
    },
    {
      "cell_type": "code",
      "source": [
        "#3.How does the `filter()` function work in Python, and when would you use it?\n",
        "\n",
        "#The filter() function in Python is a built-in function that is used to filter elements from an iterable\n",
        " #(such as a list) based on a given function (predicate).\n",
        " #It returns an iterator containing the elements for which the function returns True.\n",
        "\n",
        "\n",
        " #The general syntax of the filter() function is as follows:\n",
        "#filter(function, iterable)\n",
        "#function: A function that tests each element of the iterable. If None, it simply returns the elements of the iterable that are true.\n",
        "#iterable: An iterable object (e.g., a list, tuple, or string) whose elements are tested by the provided function.\n",
        "\n",
        "\n",
        "#Here's an example to illustrate how the filter() function works:\n",
        "\n",
        "def is_even(num):\n",
        "    return num % 2 == 0\n",
        "numbers = [1, 2, 3, 4, 5, 6, 7, 8, 9, 10]\n",
        "even_numbers = filter(is_even, numbers)\n",
        "even_numbers_list = list(even_numbers)\n",
        "print(\"Even Numbers:\", even_numbers_list)\n",
        "\n",
        "\n",
        "#Use Cases for filter():\n",
        "#Filtering based on a Condition:\n",
        "\n",
        "#filter() is useful when you want to extract elements from a collection that satisfy a specific condition or criterion.\n",
        "#Removing None or Falsy Values:\n",
        "\n",
        "#When function is set to None, filter() returns only the elements of the iterable that are considered true (i.e., not equal to False, 0, None, or an empty sequence).\n",
        "#Working with Complex Conditions:\n",
        "\n",
        "#You can use filter() with more complex functions to filter elements based on intricate conditions.\n"
      ],
      "metadata": {
        "colab": {
          "base_uri": "https://localhost:8080/"
        },
        "id": "UsfUfKP8E7AM",
        "outputId": "09c940ee-1039-421b-fd86-9fb308818298"
      },
      "execution_count": 46,
      "outputs": [
        {
          "output_type": "stream",
          "name": "stdout",
          "text": [
            "Even Numbers: [2, 4, 6, 8, 10]\n"
          ]
        }
      ]
    },
    {
      "cell_type": "code",
      "source": [
        "#4.Create a Python program that uses the `reduce()` function to find the product of all elements in a list\n",
        "\n",
        "\n",
        "from functools import reduce\n",
        "def multiply(x, y):\n",
        "    return x * y\n",
        "numbers = [2, 3, 4, 5]\n",
        "product = reduce(multiply, numbers)\n",
        "print(\"Product of Numbers:\", product)\n",
        "\n",
        "\n"
      ],
      "metadata": {
        "colab": {
          "base_uri": "https://localhost:8080/"
        },
        "id": "kXuHI5TUFqkz",
        "outputId": "becb7922-211e-48bf-96fa-a3feb9812afd"
      },
      "execution_count": 48,
      "outputs": [
        {
          "output_type": "stream",
          "name": "stdout",
          "text": [
            "Product of Numbers: 120\n"
          ]
        }
      ]
    },
    {
      "cell_type": "code",
      "source": [
        "# FUNCTION DOCUMENTATION AND BEST PRACTICES"
      ],
      "metadata": {
        "id": "7WHQh60SGdfE"
      },
      "execution_count": 49,
      "outputs": []
    },
    {
      "cell_type": "code",
      "source": [
        "#1.Explain the purpose of docstrings in Python functions and how to write them\n",
        "\n",
        "#Docstrings (documentation strings) in Python are used to provide documentation or a description for\n",
        "#functions, classes, modules, or methods. The primary purpose of docstrings is to document the\n",
        "# purpose, usage, and behavior of code, making it easier for other developers (or yourself) to\n",
        "#understand and use the code effectively. Docstrings can be accessed using the help() function or various documentation tools.\n",
        "\n",
        "#Here are key points about docstrings:\n",
        "\n",
        "#1.Docstring Placement:\n",
        "\n",
        "#Docstrings are placed immediately after the definition line of a function, class, module, or method.\n",
        "#They are enclosed in triple-quotes (''' or \"\"\").\n",
        "#2.Types of Docstrings:\n",
        "#There are three main types of docstrings: one-line docstrings, multi-line docstrings, and reStructuredText docstrings.\n",
        "#The choice of which to use depends on the complexity and requirements of the documentation.\n",
        "#3.One-line Docstrings:\n",
        "#One-line docstrings are used for simple functions with a brief description.\n",
        "#They are placed on a single line after the function definition.\n",
        "#Example:\n",
        "def add(x, y):\n",
        "    \"\"\"Return the sum of two numbers.\"\"\"\n",
        "    return x + y\n",
        "#4.Multi-line Docstrings:\n",
        "#Multi-line docstrings are used when more detailed information is needed.\n",
        "#They can include a summary line, a blank line, and additional paragraphs of explanation.\n",
        "#Example:\n",
        "def complex_function(arg1, arg2):\n",
        "    \"\"\"\n",
        "    Perform a complex operation on two arguments.\n",
        "\n",
        "    Args:\n",
        "        arg1 (int): The first argument.\n",
        "        arg2 (float): The second argument.\n",
        "\n",
        "    Returns:\n",
        "        str: A string result of the operation.\n",
        "    \"\"\"\n",
        "#5.reStructuredText Docstrings:\n",
        "#In addition to one-line and multi-line docstrings, you can use reStructuredText docstrings for more advanced documentation, especially when generating external documentation.\n",
        "#They may include sections like parameters, returns, examples, etc.\n",
        "#Example:\n",
        "def advanced_function(param1, param2):\n",
        "    \"\"\"\n",
        "    Perform an advanced operation.\n",
        "\n",
        "    :param param1: The first parameter.\n",
        "    :type param1: int\n",
        "    :param param2: The second parameter.\n",
        "    :type param2: float\n",
        "    :return: A result of the operation.\n",
        "    :rtype: str\n",
        "\n",
        "    Example:\n",
        "    >>> advanced_function(5, 2.5)\n",
        "    'Result'\n",
        "    \"\"\"\n",
        "#6.Accessing Docstrings:\n",
        "\n",
        "#You can access the docstring of a function or object using the help() function or by directly accessing the .__doc__ attribute.\n",
        "#Example:\n",
        "print(help(complex_function))\n",
        "print(complex_function.__doc__)\n"
      ],
      "metadata": {
        "colab": {
          "base_uri": "https://localhost:8080/"
        },
        "id": "yfrsGw7ZG957",
        "outputId": "1fa36fb5-df82-4efe-f118-9c97f427962f"
      },
      "execution_count": 51,
      "outputs": [
        {
          "output_type": "stream",
          "name": "stdout",
          "text": [
            "Help on function complex_function in module __main__:\n",
            "\n",
            "complex_function(arg1, arg2)\n",
            "    Perform a complex operation on two arguments.\n",
            "    \n",
            "    Args:\n",
            "        arg1 (int): The first argument.\n",
            "        arg2 (float): The second argument.\n",
            "    \n",
            "    Returns:\n",
            "        str: A string result of the operation.\n",
            "\n",
            "None\n",
            "\n",
            "    Perform a complex operation on two arguments.\n",
            "\n",
            "    Args:\n",
            "        arg1 (int): The first argument.\n",
            "        arg2 (float): The second argument.\n",
            "\n",
            "    Returns:\n",
            "        str: A string result of the operation.\n",
            "    \n"
          ]
        }
      ]
    },
    {
      "cell_type": "code",
      "source": [
        "#2.Describe some best practices for naming functions and variables in Python, including naming conventions and guidelines\n",
        "\n",
        "#Naming conventions and guidelines are essential for writing readable, maintainable, and consistent code in Python.\n",
        "#Here are some best practices for naming functions and variables:\n",
        "\n",
        "#Functions:\n",
        "#1.Use Descriptive Names:\n",
        "\n",
        "#Choose names that clearly convey the purpose or action of the function.\n",
        "#Aim for self-explanatory names that minimize the need for comments.\n",
        "\n",
        "def calculate_total_price(items):\n",
        "    pass\n",
        "\n",
        "def calc(items):\n",
        "    pass\n",
        "\n",
        "#2.Follow Snake Case:\n",
        "\n",
        "#Use snake_case for function names, which involves lowercase letters and underscores between words.\n",
        "\n",
        "def process_data(data_set):\n",
        "    pass\n",
        "\n",
        "def processData(dataSet):\n",
        "    pass\n",
        "\n",
        "#3.Verb-Noun Convention:\n",
        "\n",
        "#Start function names with a verb to indicate the action performed.\n",
        "\n",
        "\n",
        "def calculate_sum(numbers):\n",
        "    pass\n",
        "\n",
        "def numbers_sum(numbers):\n",
        "    pass\n",
        "\n",
        "#4.Avoid Single-Letter Names:\n",
        "\n",
        "#Use meaningful names even for small functions to enhance code readability.\n",
        "\n",
        "def square_root(number):\n",
        "    pass\n",
        "\n",
        "def s(number):\n",
        "    pass\n",
        "\n",
        "##Variables:\n",
        "#1.Use Descriptive Names:\n",
        "\n",
        "#Choose names that clearly represent the purpose or content of the variable.\n",
        "#Use nouns for variables.\n",
        "\n",
        "total_price = calculate_total_price(items)\n",
        "\n",
        "tp = calc(items)\n",
        "\n",
        "#2.Follow Snake Case:\n",
        "\n",
        "#Use snake_case for variable names.\n",
        "\n",
        "user_name = \"JohnDoe\"\n",
        "\n",
        "userName = \"JohnDoe\"\n",
        "\n",
        "#3.Avoid Single-Letter Names:\n",
        "\n",
        "#Use meaningful names, even for small variables, to improve code readability.\n",
        "\n",
        "radius = 5.0\n",
        "\n",
        "r = 5.0\n",
        "\n",
        "#5.Be Consistent:\n",
        "\n",
        "#Maintain consistency in naming style throughout your codebase.\n",
        "#Follow established naming conventions in your project or adhere to the PEP 8 style guide.\n",
        "\n",
        "def process_data(data_set):\n",
        "    total_price = calculate_total_price(data_set)\n",
        "\n",
        "def processData(dataSet):\n",
        "    total_price = calc(dataSet)\n",
        "\n",
        "\n",
        "#5.Avoid Reserved Words:\n",
        "\n",
        "#Avoid using Python reserved words as variable names to prevent conflicts.\n",
        "# Good\n",
        "class_ = \"Math101\"\n",
        "\n",
        "\n",
        "\n",
        "\n",
        "\n"
      ],
      "metadata": {
        "colab": {
          "base_uri": "https://localhost:8080/",
          "height": 143
        },
        "id": "_sndgdmOIEBM",
        "outputId": "be9e6ba5-9958-4b7f-bbd5-bad1d8fa1d15"
      },
      "execution_count": 59,
      "outputs": [
        {
          "output_type": "error",
          "ename": "SyntaxError",
          "evalue": "invalid syntax (<ipython-input-59-8b03806c3998>, line 93)",
          "traceback": [
            "\u001b[0;36m  File \u001b[0;32m\"<ipython-input-59-8b03806c3998>\"\u001b[0;36m, line \u001b[0;32m93\u001b[0m\n\u001b[0;31m    class =\"Math101\"\u001b[0m\n\u001b[0m          ^\u001b[0m\n\u001b[0;31mSyntaxError\u001b[0m\u001b[0;31m:\u001b[0m invalid syntax\n"
          ]
        }
      ]
    },
    {
      "cell_type": "code",
      "source": [
        "\n"
      ],
      "metadata": {
        "id": "aqhZ4DYwJvMc"
      },
      "execution_count": null,
      "outputs": []
    }
  ]
}